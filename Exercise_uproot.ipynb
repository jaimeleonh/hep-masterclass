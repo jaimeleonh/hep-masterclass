{
 "cells": [
  {
   "cell_type": "markdown",
   "id": "4e8bed38-818b-42f4-b9a3-02da9e691c42",
   "metadata": {
    "tags": []
   },
   "source": [
    "# Let's discover the Higgs boson!"
   ]
  },
  {
   "cell_type": "markdown",
   "id": "98af2958-7a1d-4f7f-b6a4-2199a55c575a",
   "metadata": {
    "slideshow": {
     "slide_type": "subslide"
    },
    "tags": []
   },
   "source": [
    "The purpose of this exercise is to reproduce one of the plots used in the discovery of Higgs boson by the CMS experiment. We are going to use public data consisting on proton-proton collisions at 8 TeV collected during 2012, part of the LHC Run 1. This exercise is based on http://opendata.cern.ch/record/5500. \n",
    "\n",
    "\n",
    "In the following tasks, we will be able to reproduce the plot for the Higgs discovery in the $pp\\rightarrow H \\rightarrow ZZ \\rightarrow 4l $ channel. This implies that a proton-proton collision in the LHC produces a Higgs boson that decays into two Z bosons that immediately decay into 4 leptons (electrons, muons, or taus), which are the particles we will measure in the final state. \n",
    "\n",
    "<div class=\"center\">\n",
    "<img src=\"imagenes/higgsdecay.png\" width=\"500\"/>\n",
    "<img src=\"imagenes/SM_table.png\" width=\"350\"/>\n",
    "</div>"
   ]
  },
  {
   "cell_type": "markdown",
   "id": "da9bbf61-519f-46da-a169-6bd7c844ce11",
   "metadata": {
    "tags": []
   },
   "source": [
    "**How are we going to work?** "
   ]
  },
  {
   "cell_type": "markdown",
   "id": "409ac99a-bd66-4135-b2a0-5341eb709a97",
   "metadata": {
    "slideshow": {
     "slide_type": "subslide"
    },
    "tags": []
   },
   "source": [
    "**ROOT** (https://root.cern/) is the most common data analysis tool in Particle Physics. It can be used un two languages, C++ and Python. Additionally, several tools have been developed in recent years that allow to work with ROOT files, such as [uproot](https://uproot.readthedocs.io/en/latest/index.html). This tool allows to open ROOT files in python and work with the data using more industry-standard tools, such as numpy or pandas. In our case we will work with [awkward arrays](https://awkward-array.org/doc/main/index.html), similar to numpy but more HEP-oriented."
   ]
  },
  {
   "cell_type": "markdown",
   "id": "5ade0f1f-e115-4ad8-8e76-c84c9e2a22dd",
   "metadata": {
    "tags": []
   },
   "source": [
    "**Data file structure** "
   ]
  },
  {
   "cell_type": "markdown",
   "id": "fa6a62be-1848-4b15-b64c-fb941774b66f",
   "metadata": {
    "slideshow": {
     "slide_type": "subslide"
    },
    "tags": []
   },
   "source": [
    "The ROOT files we will use have the following structure:\n",
    "\n",
    "<div class=\"center\">\n",
    "<img src=\"imagenes/tree.png\" width=\"1000\"/>\n",
    "</div>\n",
    "\n",
    "\n",
    "- Two **directories**, demo and demoLong. We will only work with demo.\n",
    "- Inside the demo directory we can find:\n",
    "    - A **tree** named *'ExampleTree'*. *Trees* are the typical ROOT file structure, where information is stored and classified in **branches**. This structure allows to work with a huge amount of events treating in parallel objects and variables with different dimensions. Our trees store the following variables: \n",
    "        - **Number of leptons per event**: *nMuons, nElectrons, nGoodMuons, nGoodElectrons*\n",
    "        - **Lepton variables**, stored as *arrays* (fixed-size vectors): *ptMuons[nMuons], etaMuons[nMuons], phiMuons[nMuons], chargeMuons[nMuons], idMuons[nMuons], isoMuons[nMuons]*\n",
    "        - **HZZ candidate variables** in cases with 4 muons: *mass4mu, pt_4mu, eta_4mu, phi_4mu, E4mu, mZa, mZb, selectHZZ*"
   ]
  },
  {
   "cell_type": "markdown",
   "id": "f3a70654-3f02-4ef2-8ca8-1d5f3b0e0bef",
   "metadata": {},
   "source": [
    "Before running, let's import some packages that we'll need during the exercise."
   ]
  },
  {
   "cell_type": "code",
   "execution_count": 1,
   "id": "eae58fde-f5bb-461e-868b-70492ab9435e",
   "metadata": {},
   "outputs": [],
   "source": [
    "from ipywidgets import interact  # interactive widgets\n",
    "import uproot\n",
    "import awkward as ak\n",
    "from matplotlib import pyplot as plt  # plotting\n",
    "import numba as nb  # just-in-time compilation\n",
    "import vector  # 4-vectors"
   ]
  },
  {
   "cell_type": "markdown",
   "id": "5df1af30-e53f-491a-92e1-80623d26bcc5",
   "metadata": {
    "tags": []
   },
   "source": [
    "## PART 1: Event selection"
   ]
  },
  {
   "cell_type": "markdown",
   "id": "13fcd37c-95f1-47ea-8c04-9de64f08c68c",
   "metadata": {
    "slideshow": {
     "slide_type": "subslide"
    },
    "tags": []
   },
   "source": [
    "In order to start working with ROOT, let's produce a set of basic histograms showing the lepton variable distributions. We will consider simulated **Drell-Yan** events, where a proton-proton collision produces a virtual Z or photon that immediately decays into two same-flavour opposite-charge leptons ($e^+e^-$, $\\mu^+\\mu^-$, $\\tau^+\\tau^-$). These events are stored in the `DYJetsToLL_M-50.root` file.\n",
    "\n",
    "<div class=\"center\">\n",
    "<img src=\"imagenes/drellyan.png\" width=\"500\"/>\n",
    "</div>\n",
    "\n",
    "We will consider for now only muons, but the some procedure could be applied to electrons."
   ]
  },
  {
   "cell_type": "markdown",
   "id": "ccd4fa2a-912f-4bc9-994f-05daf713f3c4",
   "metadata": {},
   "source": [
    "**1) Load the input file and open the tree inside it** "
   ]
  },
  {
   "cell_type": "code",
   "execution_count": 2,
   "id": "4200747c-45c3-4a2f-bbea-97d823ce3b44",
   "metadata": {},
   "outputs": [
    {
     "name": "stdout",
     "output_type": "stream",
     "text": [
      "Tree has 100000 events\n"
     ]
    }
   ],
   "source": [
    "file = uproot.open('DYJetsToLL_M-50.root')\n",
    "tree = file['demo/ExampleTree']\n",
    "branches = tree.arrays()\n",
    "\n",
    "print(f\"Tree has {len(branches)} events\")"
   ]
  },
  {
   "cell_type": "markdown",
   "id": "131736c3-e6b2-453c-abb3-82e6fe974b7a",
   "metadata": {
    "tags": []
   },
   "source": [
    "**2) Fill a histogram with the $p_T$ of the muons**"
   ]
  },
  {
   "cell_type": "code",
   "execution_count": 3,
   "id": "25645e54-2759-4e7b-9294-e556bd18ae28",
   "metadata": {},
   "outputs": [
    {
     "data": {
      "image/png": "[encoded data removed]",
      "text/plain": [
       "<Figure size 640x480 with 1 Axes>"
      ]
     },
     "metadata": {},
     "output_type": "display_data"
    }
   ],
   "source": [
    "histo_pt = plt.hist(ak.flatten(branches['ptMuons']), bins=100, range=(0, 100))\n",
    "x_label = plt.xlabel(\"Muon $p_{T}$ [GeV]\")\n",
    "y_label = plt.ylabel(\"Entries\")"
   ]
  },
  {
   "cell_type": "markdown",
   "id": "18750efc-d67d-412c-b0a1-2b3ae85cc416",
   "metadata": {},
   "source": [
    "**3) What's happening at very low $p_T$?)**\n",
    "\n",
    "Some objects (e.g. jets) can be misidentified as muons, and they usually end up reconstructed with very low $p_T$. In order to get rid of this muons, we can apply cuts on variables such as the muon **isolation** and **identification**, produced via dedicated algorithms. Muon isolation (stored in the tree as `isoMuons`) measures how many particles surround the muon, and takes values between 0 and 1. Muon identification (stored as `idMuons`) is the output of an algorithm that applies different cuts to assess whether a muon object can be a proper muon, and takes values 0 or 1.\n",
    "\n",
    "We can apply cuts on these variables to see how the $p_T$ distribution changes."
   ]
  },
  {
   "cell_type": "code",
   "execution_count": 4,
   "id": "779c95eb-ec72-4829-9669-2952be601b62",
   "metadata": {},
   "outputs": [
    {
     "data": {
      "application/vnd.jupyter.widget-view+json": {
       "model_id": "1f600f760e434388a67ed458b24af6b6",
       "version_major": 2,
       "version_minor": 0
      },
      "text/plain": [
       "interactive(children=(FloatSlider(value=1.0, description='iso_cut', max=1.0, step=0.05), IntSlider(value=0, de…"
      ]
     },
     "metadata": {},
     "output_type": "display_data"
    }
   ],
   "source": [
    "def apply_iso_id_cut(branches, iso_cut=0.4, id_cut=0):\n",
    "    return (branches['isoMuons'] <= iso_cut) & (branches['idMuons'] >= id_cut)\n",
    "\n",
    "@interact(iso_cut=(0., 1., 0.05), id_cut=(0, 1))\n",
    "def interactive_straight_track(iso_cut=1.0, id_cut=0):\n",
    "    mask = apply_iso_id_cut(branches, iso_cut=iso_cut, id_cut=id_cut)\n",
    "    ax = plt.subplot()\n",
    "    plt.hist(ak.flatten(branches['ptMuons'][mask]), bins=100, range=(0, 100))\n",
    "    x_label = plt.xlabel(\"Muon $p_{T}$ [GeV]\")\n",
    "    y_label = plt.ylabel(\"Entries\")\n",
    "    plt.text(0.7, 0.9, f'Iso <= {iso_cut}', fontsize=15, transform=ax.transAxes)\n",
    "    plt.text(0.7, 0.8, f'ID >= {id_cut}', fontsize=15, transform=ax.transAxes)\n"
   ]
  },
  {
   "cell_type": "markdown",
   "id": "1ee7accd-6a03-42c7-9026-116a35ccf202",
   "metadata": {},
   "source": [
    "Let's apply an intermediate selection, Identification = 1 and isolation <= 0.4, and plot both distributions (before and after selection) together."
   ]
  },
  {
   "cell_type": "code",
   "execution_count": 5,
   "id": "6630d169-bb48-4d3c-b77d-f318817c5b5d",
   "metadata": {},
   "outputs": [
    {
     "data": {
      "image/png": "[encoded data removed]",
      "text/plain": [
       "<Figure size 640x480 with 1 Axes>"
      ]
     },
     "metadata": {},
     "output_type": "display_data"
    }
   ],
   "source": [
    "iso_cut = 0.4\n",
    "id_cut = 1\n",
    "mask = apply_iso_id_cut(branches, iso_cut=iso_cut, id_cut=id_cut)\n",
    "ax = plt.subplot()\n",
    "plt.hist(ak.flatten(branches['ptMuons']), bins=100, range=(0, 100), histtype='barstacked', label=\"No selection\")\n",
    "plt.hist(ak.flatten(branches['ptMuons'][mask]), bins=100, range=(0, 100), histtype='barstacked', label=f'Iso <= {iso_cut}, ID >= {id_cut}')\n",
    "x_label = plt.xlabel(\"Muon $p_{T}$ [GeV]\")\n",
    "y_label = plt.ylabel(\"Entries\")\n",
    "legend = ax.legend()"
   ]
  },
  {
   "cell_type": "markdown",
   "id": "73de71d3-cae7-42fd-b314-8e4633c744ab",
   "metadata": {},
   "source": [
    "How many muons have we lost?"
   ]
  },
  {
   "cell_type": "code",
   "execution_count": 6,
   "id": "e65e32d8-f729-4168-81b3-f0e83f7311b8",
   "metadata": {},
   "outputs": [
    {
     "name": "stdout",
     "output_type": "stream",
     "text": [
      "Muons before selection: 55699\n",
      "Muons after selection:  46803\n"
     ]
    }
   ],
   "source": [
    "muons_before_selection = len(ak.flatten(branches['ptMuons']))\n",
    "muons_after_selection = len(ak.flatten(branches['ptMuons'][mask]))\n",
    "\n",
    "print(f\"Muons before selection: {muons_before_selection}\")\n",
    "print(f\"Muons after selection:  {muons_after_selection}\")"
   ]
  },
  {
   "cell_type": "markdown",
   "id": "958b97ea-48ed-4474-8242-9077e90f430f",
   "metadata": {},
   "source": [
    "The number of muons per event with and without this selection are stored in the tree named as `nMuons` and `nGoodMuons`. Let's plot their distributions."
   ]
  },
  {
   "cell_type": "code",
   "execution_count": 7,
   "id": "5398180c-b034-4658-8d9a-5dd490b262ac",
   "metadata": {},
   "outputs": [
    {
     "data": {
      "image/png": "[encoded data removed]",
      "text/plain": [
       "<Figure size 640x480 with 1 Axes>"
      ]
     },
     "metadata": {},
     "output_type": "display_data"
    }
   ],
   "source": [
    "ax = plt.subplot()\n",
    "plt.hist(branches['nMuons'], bins=10, range=(-0.5, 9.5), histtype='barstacked', label=\"Number of muons\")\n",
    "plt.hist(branches['nGoodMuons'], bins=100, range=(-0.5, 9.5), histtype='barstacked', label=\"Number of good muons\")\n",
    "x_label = plt.xlabel(\"Number of muons\")\n",
    "y_label = plt.ylabel(\"Events\")\n",
    "legend = ax.legend()"
   ]
  },
  {
   "cell_type": "markdown",
   "id": "b76e8d3e-8140-46be-83d2-7744be7afae5",
   "metadata": {
    "tags": []
   },
   "source": [
    "**4) Analyse what you have obtained**"
   ]
  },
  {
   "cell_type": "markdown",
   "id": "e684fa6c-ab25-4f1a-a41a-9e571349c225",
   "metadata": {
    "tags": []
   },
   "source": [
    "- How are the muons per event?\n",
    "- How would you characterise them in terms of pt, eta, phi...?\n",
    "- How many muons are tipically per event? Why?\n",
    "- What is the effect of the id and isolation cuts?\n",
    "- Can you run over the other samples and see how these distributions look like?\n",
    "\n",
    "$\\color{red}{\\text{You can repeat the same exercise for electrons and see how the results look like.}}$"
   ]
  },
  {
   "cell_type": "markdown",
   "id": "1d1da1dd-090f-4b8d-9821-c1b8061515d1",
   "metadata": {
    "tags": []
   },
   "source": [
    "## Part 2: Invariant mass\n",
    "\n",
    "As a first test, we will try to obtain the invariant mass of $Z\\to\\mu\\mu$ objects. To do so, we can use `vector.obj` objects, which store the 4-vector of each particle. `vector.obj` can be combined, providing an easy way of obtaining the 4-vector of the resulting particles. Additionally, the `vector.obj.mass` attribute stores the mass of that object.\n",
    "\n",
    "$\\color{red}{\\text{Goals of this exercise:}}$\n",
    "- Select the two most energetic good muons per event.\n",
    "- Build the `vector.obj` object for each of those muons.\n",
    "- Reconstruct the Z boson and obtain its invariant mass.\n",
    "    \n"
   ]
  },
  {
   "cell_type": "markdown",
   "id": "048a4981-f250-48e5-9ba1-c826f7fafd5a",
   "metadata": {
    "tags": []
   },
   "source": [
    "**1) Load the input file**\n",
    "\n",
    "In this case, let's work with $H \\rightarrow ZZ \\rightarrow 4l$ events, stored in `SMHiggsToZZTo4L.root`"
   ]
  },
  {
   "cell_type": "code",
   "execution_count": 8,
   "id": "9271811e-9e1d-487b-b594-a4ea24512bdc",
   "metadata": {},
   "outputs": [
    {
     "name": "stdout",
     "output_type": "stream",
     "text": [
      "Tree has 100000 events\n"
     ]
    }
   ],
   "source": [
    "file = uproot.open('SMHiggsToZZTo4L.root')\n",
    "tree = file['demo/ExampleTree']\n",
    "branches = tree.arrays()\n",
    "\n",
    "higgs_sample_entries = len(branches)\n",
    "\n",
    "print(f\"Tree has {higgs_sample_entries} events\")"
   ]
  },
  {
   "cell_type": "markdown",
   "id": "6d1b3352-f238-4624-a060-38c1c31bc5ae",
   "metadata": {},
   "source": [
    "**Obtain the mass from the two most energetic muons**"
   ]
  },
  {
   "cell_type": "code",
   "execution_count": 9,
   "id": "0c87db3e-c364-492e-ad74-2323000db7d3",
   "metadata": {},
   "outputs": [],
   "source": [
    "muon_mass = 0.105658\n",
    "electron_mass = 0.0005109989\n",
    "\n",
    "@nb.jit(nopython=True)  # allow just-in-time compilation of the code, making it much faster\n",
    "def get_mass(builder, branches):\n",
    "    builder.begin_list()\n",
    "    for iev in range(len(branches[\"ptMuons\"])):  # looping on all the events of the sample\n",
    "        # if iev % 1000 == 0:\n",
    "        #     print(iev)\n",
    "        muon_pts_to_sort = []\n",
    "        for imuon, pt in enumerate(branches[\"ptMuons\"][iev]):\n",
    "            # apply selections here if needed\n",
    "            if branches[\"idMuons\"][iev][imuon] < 1 or branches[\"isoMuons\"][iev][imuon] > 0.4:\n",
    "                continue\n",
    "            muon_pts_to_sort.append((imuon, pt))\n",
    "        muon_pts_to_sort.sort(key=lambda x: x[1], reverse=True)\n",
    "        if len(muon_pts_to_sort) >= 2:\n",
    "            i1 = muon_pts_to_sort[0][0]\n",
    "            i2 = muon_pts_to_sort[1][0]\n",
    "            \n",
    "            if branches[\"chargeMuons\"][iev][i1] * branches[\"chargeMuons\"][iev][i2] != -1:\n",
    "                continue\n",
    "                \n",
    "            muon1 = vector.obj(\n",
    "                pt=branches[\"ptMuons\"][iev][i1],\n",
    "                eta=branches[\"etaMuons\"][iev][i1],\n",
    "                phi=branches[\"phiMuons\"][iev][i1],\n",
    "                mass=muon_mass\n",
    "            )\n",
    "            muon2 = vector.obj(\n",
    "                pt=branches[\"ptMuons\"][iev][i2],\n",
    "                eta=branches[\"etaMuons\"][iev][i2],\n",
    "                phi=branches[\"phiMuons\"][iev][i2],\n",
    "                mass=muon_mass\n",
    "            )\n",
    "            builder.append((muon1 + muon2).mass)\n",
    "    builder.end_list()\n",
    "    return builder\n"
   ]
  },
  {
   "cell_type": "code",
   "execution_count": 10,
   "id": "00b8d721-af9d-44e8-a548-96a2fd35c3da",
   "metadata": {},
   "outputs": [],
   "source": [
    "higgs_sample_mass = get_mass(ak.ArrayBuilder(), branches).to_list()\n"
   ]
  },
  {
   "cell_type": "code",
   "execution_count": 11,
   "id": "7a203ce3-e849-4758-80a4-65fbcb34dd58",
   "metadata": {},
   "outputs": [
    {
     "data": {
      "image/png": "[encoded data removed]",
      "text/plain": [
       "<Figure size 640x480 with 1 Axes>"
      ]
     },
     "metadata": {},
     "output_type": "display_data"
    }
   ],
   "source": [
    "histo_mass = plt.hist(ak.flatten(higgs_sample_mass), bins=40, range=(40, 120))\n",
    "x_label = plt.xlabel(r\"$m_{\\mu\\mu}$ [GeV]\")\n",
    "y_label = plt.ylabel(\"Entries\")"
   ]
  },
  {
   "cell_type": "markdown",
   "id": "6acc098c-d356-4df4-a54e-1a361f2c1dc0",
   "metadata": {
    "tags": []
   },
   "source": [
    "**2) Some questions you may want to ask yourself**\n",
    "\n",
    "- If the Z mass is around 91 GeV, why do we see a broader peak?\n",
    "- Why do we obtain a ~constant tail below 80 GeV?\n",
    "- What happens if I use a different sample? e.g. `DYJetsToLL_M-50`, the one from the first exercise.\n",
    "- And for a data sample? The data input file is divided into 10 files (`DoubleMuParkedRun2012BC_X.root`, with `X`$\\in[0, 9]$."
   ]
  },
  {
   "cell_type": "code",
   "execution_count": 12,
   "id": "172ffcc6-5084-4ae1-bb82-ce0dba7e1439",
   "metadata": {},
   "outputs": [
    {
     "name": "stdout",
     "output_type": "stream",
     "text": [
      "Tree has 100000 events\n"
     ]
    },
    {
     "data": {
      "image/png": "[encoded data removed]",
      "text/plain": [
       "<Figure size 640x480 with 1 Axes>"
      ]
     },
     "metadata": {},
     "output_type": "display_data"
    }
   ],
   "source": [
    "# Running over DYJetsToLL_M-50\n",
    "file = uproot.open('DYJetsToLL_M-50.root')\n",
    "tree = file['demo/ExampleTree']\n",
    "branches = tree.arrays()\n",
    "\n",
    "dy_sample_entries = len(branches)\n",
    "\n",
    "print(f\"Tree has {dy_sample_entries} events\")\n",
    "\n",
    "dy_sample_mass = get_mass(ak.ArrayBuilder(), branches).to_list()\n",
    "histo_mass = plt.hist(ak.flatten(dy_sample_mass), bins=40, range=(40, 120))\n",
    "x_label = plt.xlabel(r\"$m_{\\mu\\mu}$ [GeV]\")\n",
    "y_label = plt.ylabel(\"Entries\")"
   ]
  },
  {
   "cell_type": "code",
   "execution_count": 13,
   "id": "14594f4c-9771-4b48-a11b-7ded29592cf5",
   "metadata": {},
   "outputs": [
    {
     "name": "stdout",
     "output_type": "stream",
     "text": [
      "Tree has 6093598 events\n",
      "Tree has 6093597 events\n",
      "Tree has 6093598 events\n",
      "Tree has 6093598 events\n",
      "Tree has 6093597 events\n",
      "Tree has 6093598 events\n",
      "Tree has 6093598 events\n",
      "Tree has 6093598 events\n",
      "Tree has 6093597 events\n",
      "Tree has 6093598 events\n"
     ]
    },
    {
     "data": {
      "image/png": "[encoded data removed]",
      "text/plain": [
       "<Figure size 640x480 with 1 Axes>"
      ]
     },
     "metadata": {},
     "output_type": "display_data"
    }
   ],
   "source": [
    "# Running over data\n",
    "\n",
    "data_sample_mass = []\n",
    "for i in range(10):\n",
    "    file = uproot.open(f'DoubleMuParkedRun2012BC_{i}.root')\n",
    "    tree = file['demo/ExampleTree']\n",
    "    branches = tree.arrays()\n",
    "\n",
    "    print(f\"Tree has {len(branches)} events\")\n",
    "\n",
    "    data_sample_mass += get_mass(ak.ArrayBuilder(), branches).to_list()\n",
    "histo_mass = plt.hist(ak.flatten(data_sample_mass), bins=40, range=(40, 120))\n",
    "x_label = plt.xlabel(r\"$m_{\\mu\\mu}$ [GeV]\")\n",
    "y_label = plt.ylabel(\"Entries\")"
   ]
  },
  {
   "cell_type": "code",
   "execution_count": 14,
   "id": "98d2cf15-e463-4292-b881-27c36e95e2a5",
   "metadata": {
    "tags": []
   },
   "outputs": [],
   "source": [
    "# END PART 2"
   ]
  },
  {
   "cell_type": "markdown",
   "id": "3ac001fb-89dd-4552-9efe-bf47afd53185",
   "metadata": {
    "tags": []
   },
   "source": [
    "## Part 3: Normalising\n",
    "\n",
    "Before starting with the Higgs reconstruction we need to learn how to **normalise** histograms, so the the ones obtained from Monte Carlo simulations can be compared to the actual data from the detector. To do so we need to define two quantities\n",
    "\n",
    "- **Cross section** ($\\sigma$), defined as the probability that a given process is given after the collision of the particles. It has units of area (m${}^2$), but in Particle Physics we use the **barn** (1b $ = 10^{-28}$ m${}^2$) and its multiples (mb, pb, fb, ...)\n",
    "- **Luminosity**: related to the number of events and the cross section as\n",
    "  $L = \\frac{1}{\\sigma}\\cdot \\frac{dN}{dt}$. Intregrating the luminosity in a period of time we obtaine the **integrated luminosity**, measured in inversed units of the cross section (pb${}^{-1}$, fb${}^{-1}$, ...). The larger the integrated luminosity, the more data events we will have and the probability that we could have collected enough events of a particular process so it can be statistically observed.\n",
    "\n",
    "**How do we obtain the values of the cross sections of the different processes?**\n",
    "\n",
    "Cross sections are computed using appropriated tools, such as [MCFM](https://mcfm.fnal.gov/) or [FEWZ](http://dx.doi.org/10.1103/PhysRevD.86.094034). Their values are estimated considering proton-proton collisions with a center-of-mass energy of 8 TeV.\n",
    "\n",
    "- $Z\\rightarrow\\ell^{+}\\ell^{-}$, with $m_{ll}>50 GeV$: 1177.3 pb.\n",
    "- $pp\\rightarrow ZZ -> 4\\mu$: 7.7 pb.\n",
    "- $gg\\to H\\to ZZ \\to 4\\mu$: 0.0065 pb.\n"
   ]
  },
  {
   "cell_type": "markdown",
   "id": "3aceea6b-6b59-436e-9611-18e9b2ae3535",
   "metadata": {
    "tags": []
   },
   "source": [
    "**Let's work!**\n",
    "Let's compare the event yields after normalization for data (`DoubleMuParkedRun2012BC.root`), signal (`SMHiggsToZZTo4L`), and backgrounds (`DYJetsToLL_M-50` and `ZZTo4mu`) around the Z peak."
   ]
  },
  {
   "cell_type": "code",
   "execution_count": 15,
   "id": "0152b43d-6c0c-41c3-a5e9-df80b8c61d0e",
   "metadata": {},
   "outputs": [
    {
     "name": "stdout",
     "output_type": "stream",
     "text": [
      "Tree has 1499064 events\n"
     ]
    },
    {
     "data": {
      "image/png": "[encoded data removed]",
      "text/plain": [
       "<Figure size 640x480 with 1 Axes>"
      ]
     },
     "metadata": {},
     "output_type": "display_data"
    }
   ],
   "source": [
    "# Running over ZZTo4mu\n",
    "file = uproot.open('ZZTo4mu.root')\n",
    "tree = file['demo/ExampleTree']\n",
    "branches = tree.arrays()\n",
    "\n",
    "zz_sample_entries = len(branches)\n",
    "\n",
    "print(f\"Tree has {zz_sample_entries} events\")\n",
    "\n",
    "zz_sample_mass = get_mass(ak.ArrayBuilder(), branches).to_list()\n",
    "histo_mass = plt.hist(ak.flatten(zz_sample_mass), bins=40, range=(40, 120))\n",
    "x_label = plt.xlabel(r\"$m_{\\mu\\mu}$ [GeV]\")\n",
    "y_label = plt.ylabel(\"Entries\")"
   ]
  },
  {
   "cell_type": "code",
   "execution_count": 16,
   "id": "7cddb747-f080-495c-b77d-9e366ebbe031",
   "metadata": {},
   "outputs": [],
   "source": [
    "integrated_luminosity = 11580 #pb-1\n",
    "hzzXsec = 0.0065 # xs gg-> H -> ZZ -> 4mu [pb]\n",
    "zzXsec = 0.077 * 1.386  # xs gg -> ZZ -> 4mu [pb]\n",
    "dyM50Xsec = 1177.3 * 3 # xs gg -> Z -> mumu [pb]"
   ]
  },
  {
   "cell_type": "code",
   "execution_count": 17,
   "id": "2b087df8-8270-4de0-bfd2-83c63c40693e",
   "metadata": {},
   "outputs": [
    {
     "ename": "NameError",
     "evalue": "name 'np' is not defined",
     "output_type": "error",
     "traceback": [
      "\u001b[0;31m---------------------------------------------------------------------------\u001b[0m",
      "\u001b[0;31mNameError\u001b[0m                                 Traceback (most recent call last)",
      "Cell \u001b[0;32mIn[17], line 7\u001b[0m\n\u001b[1;32m      1\u001b[0m ax \u001b[38;5;241m=\u001b[39m plt\u001b[38;5;241m.\u001b[39msubplot()\n\u001b[1;32m      2\u001b[0m stacked_histo \u001b[38;5;241m=\u001b[39m plt\u001b[38;5;241m.\u001b[39mhist(\n\u001b[1;32m      3\u001b[0m     [ak\u001b[38;5;241m.\u001b[39mflatten(zz_sample_mass), ak\u001b[38;5;241m.\u001b[39mflatten(dy_sample_mass)],\n\u001b[1;32m      4\u001b[0m     bins\u001b[38;5;241m=\u001b[39m\u001b[38;5;241m40\u001b[39m, \u001b[38;5;28mrange\u001b[39m\u001b[38;5;241m=\u001b[39m(\u001b[38;5;241m40\u001b[39m, \u001b[38;5;241m120\u001b[39m),\n\u001b[1;32m      5\u001b[0m     stacked\u001b[38;5;241m=\u001b[39m\u001b[38;5;28;01mTrue\u001b[39;00m,\n\u001b[1;32m      6\u001b[0m     label\u001b[38;5;241m=\u001b[39m[\u001b[38;5;124mr\u001b[39m\u001b[38;5;124m\"\u001b[39m\u001b[38;5;124mZZ$\u001b[39m\u001b[38;5;124m\\\u001b[39m\u001b[38;5;124mto 4 \u001b[39m\u001b[38;5;124m\\\u001b[39m\u001b[38;5;124mmu$\u001b[39m\u001b[38;5;124m\"\u001b[39m, \u001b[38;5;124mr\u001b[39m\u001b[38;5;124m\"\u001b[39m\u001b[38;5;124mDY$ \u001b[39m\u001b[38;5;124m\\\u001b[39m\u001b[38;5;124mto \u001b[39m\u001b[38;5;124m\\\u001b[39m\u001b[38;5;124mmu \u001b[39m\u001b[38;5;124m\\\u001b[39m\u001b[38;5;124mmu $\u001b[39m\u001b[38;5;124m\"\u001b[39m],\n\u001b[0;32m----> 7\u001b[0m     weights\u001b[38;5;241m=\u001b[39m[(integrated_luminosity \u001b[38;5;241m*\u001b[39m zzXsec \u001b[38;5;241m/\u001b[39m zz_sample_entries) \u001b[38;5;241m*\u001b[39m \u001b[43mnp\u001b[49m\u001b[38;5;241m.\u001b[39mones_like(ak\u001b[38;5;241m.\u001b[39mflatten(zz_sample_mass)),\n\u001b[1;32m      8\u001b[0m              (integrated_luminosity \u001b[38;5;241m*\u001b[39m dyM50Xsec \u001b[38;5;241m/\u001b[39m dy_sample_entries) \u001b[38;5;241m*\u001b[39m np\u001b[38;5;241m.\u001b[39mones_like(ak\u001b[38;5;241m.\u001b[39mflatten(dy_sample_mass))]\n\u001b[1;32m      9\u001b[0m )\n\u001b[1;32m     11\u001b[0m data \u001b[38;5;241m=\u001b[39m plt\u001b[38;5;241m.\u001b[39mhist(\n\u001b[1;32m     12\u001b[0m     ak\u001b[38;5;241m.\u001b[39mflatten(data_sample_mass),\n\u001b[1;32m     13\u001b[0m     bins\u001b[38;5;241m=\u001b[39m\u001b[38;5;241m40\u001b[39m, \u001b[38;5;28mrange\u001b[39m\u001b[38;5;241m=\u001b[39m(\u001b[38;5;241m40\u001b[39m, \u001b[38;5;241m120\u001b[39m),\n\u001b[1;32m     14\u001b[0m     fill\u001b[38;5;241m=\u001b[39m\u001b[38;5;28;01mFalse\u001b[39;00m,\n\u001b[1;32m     15\u001b[0m     edgecolor\u001b[38;5;241m=\u001b[39m\u001b[38;5;124m\"\u001b[39m\u001b[38;5;124mwhite\u001b[39m\u001b[38;5;124m\"\u001b[39m\n\u001b[1;32m     16\u001b[0m )\n\u001b[1;32m     17\u001b[0m bin_centres \u001b[38;5;241m=\u001b[39m (data[\u001b[38;5;241m1\u001b[39m][:\u001b[38;5;241m-\u001b[39m\u001b[38;5;241m1\u001b[39m] \u001b[38;5;241m+\u001b[39m data[\u001b[38;5;241m1\u001b[39m][\u001b[38;5;241m1\u001b[39m:])\u001b[38;5;241m/\u001b[39m\u001b[38;5;241m2.\u001b[39m\n",
      "\u001b[0;31mNameError\u001b[0m: name 'np' is not defined"
     ]
    },
    {
     "data": {
      "image/png": "[encoded data removed]",
      "text/plain": [
       "<Figure size 640x480 with 1 Axes>"
      ]
     },
     "metadata": {},
     "output_type": "display_data"
    }
   ],
   "source": [
    "ax = plt.subplot()\n",
    "stacked_histo = plt.hist(\n",
    "    [ak.flatten(zz_sample_mass), ak.flatten(dy_sample_mass)],\n",
    "    bins=40, range=(40, 120),\n",
    "    stacked=True,\n",
    "    label=[r\"ZZ$\\to 4 \\mu$\", r\"DY$ \\to \\mu \\mu $\"],\n",
    "    weights=[(integrated_luminosity * zzXsec / zz_sample_entries) * np.ones_like(ak.flatten(zz_sample_mass)),\n",
    "             (integrated_luminosity * dyM50Xsec / dy_sample_entries) * np.ones_like(ak.flatten(dy_sample_mass))]\n",
    ")\n",
    "\n",
    "data = plt.hist(\n",
    "    ak.flatten(data_sample_mass),\n",
    "    bins=40, range=(40, 120),\n",
    "    fill=False,\n",
    "    edgecolor=\"white\"\n",
    ")\n",
    "bin_centres = (data[1][:-1] + data[1][1:])/2.\n",
    "error = np.sqrt(data[0])\n",
    "data = plt.errorbar(bin_centres, data[0], yerr=error, fmt='o', color=\"k\", label=\"Data\")\n",
    "\n",
    "x_label = plt.xlabel(r\"$m_{\\mu\\mu}$ [GeV]\")\n",
    "y_label = plt.ylabel(\"Entries\")\n",
    "legend = plt.legend()\n",
    "#ax.set_yscale('log')"
   ]
  },
  {
   "cell_type": "markdown",
   "id": "196d96a2-cd46-40b0-9779-1d1ad387d8f3",
   "metadata": {},
   "source": [
    "**2) Some questions you may want to ask yourself**\n",
    "\n",
    "- What do you think about the agreement between data and simulation?\n",
    "- Where is the $ZZ\\to4\\mu$ distribution?\n",
    "- How does the Higgs sample compare to these distributions?"
   ]
  },
  {
   "cell_type": "markdown",
   "id": "931f4891-b31b-4d17-9a34-cc5adc64622d",
   "metadata": {},
   "source": [
    "# Now we can look for the Higgs boson!"
   ]
  },
  {
   "cell_type": "markdown",
   "id": "8babed39-ff32-42c8-bba8-686d4976c48b",
   "metadata": {},
   "source": [
    "We have already all the tools needed to reproduce the plot used in the search for $H\\to ZZ \\to 4l$. We will simplify it a bit by only looking at the $2\\mu2e$ channel and only part of the 2012 data. A more detailed version of this analysis is located in https://github.com/cms-opendata-analyses/HiggsExample20112012, where you can see the final plot:\n",
    "\n",
    "<div>\n",
    "<img src=\"imagenes/mass4l_combine.png\" width=\"800\"/>\n",
    "</div>\n",
    "\n",
    "In our particular channel, the plot looks like \n",
    "\n",
    "<div>\n",
    "<img src=\"imagenes/mass2mu2e_small.png\" width=\"800\"/>\n",
    "</div>\n",
    "\n",
    "$\\color{red}{\\text{Goals of this exercise}}$\n",
    "- Select the two most energetic muons and electrons per event\n",
    "- Reconstruct both Z bosons and the Higgs boson!\n",
    "- Compare signal, background, and data\n",
    "    \n",
    "We will consider three samples:\n",
    "- Monte Carlo simulation of $pp \\to H \\to ZZ \\to 4l$: file `SMHiggsToZZTo4l.root`\n",
    "- Monte Carlo simulation of $pp \\to ZZ \\to 2\\mu2e$: file `ZZTo2mu2e.root`\n",
    "- 2012 data: file `DoubleMuParkedRun2012BC.root`\n"
   ]
  },
  {
   "cell_type": "markdown",
   "id": "d9f59118-9944-4c69-bd4f-a907f7c1af05",
   "metadata": {},
   "source": [
    "### Some constants that will be needed for this exercise"
   ]
  },
  {
   "cell_type": "code",
   "execution_count": null,
   "id": "053d42c6-b741-4f6a-9be3-621763f9730e",
   "metadata": {},
   "outputs": [],
   "source": [
    "muon_mass = 0.105658\n",
    "electron_mass = 0.0005109989\n",
    "Z_mass = 91.1876\n",
    "\n",
    "# Luminosity\n",
    "integrated_luminosity = 11580 # pb-1\n",
    "\n",
    "# Cross-sections :\n",
    "hzzXsec = 0.0065 # pb. gg -> H -> ZZ -> 4l\n",
    "zzXsec = 0.18 * 1.386  #pb. gg -> ZZ -> 4l"
   ]
  },
  {
   "cell_type": "markdown",
   "id": "46ecdf72-93c4-445b-96e1-f8b6a532f9c8",
   "metadata": {},
   "source": [
    "### 2) Look for the two muons and two electrons\n",
    "\n",
    "Let's work with ```ROOT.TLorentzVector``` as in the previous exercise. We'll build the TLorentzVector for each muon and electron, sum them to obtain the 4-vectors of each $Z$ and sum them again to reconstruct the Higgs boson. \n",
    "\n",
    "Let's start by not applying any additional selection, just reconstruct both $Z$ from the two most energetic electrons and muons. These electrons and muons must be *good*, i.e. satisfy the requirements on ID and isolation already considered in the previous exercises.\n",
    "\n"
   ]
  },
  {
   "cell_type": "code",
   "execution_count": null,
   "id": "bfa1d895-6f3f-4f88-a868-b4a3b2ab61ca",
   "metadata": {},
   "outputs": [],
   "source": [
    "@nb.jit(nopython=True)\n",
    "def get_higgs_mass_nosel(builder, branches):\n",
    "    builder.begin_list()\n",
    "    for iev in range(len(branches[\"ptMuons\"])):  # looping on all the events of the sample\n",
    "        # if iev % 1000 == 0:\n",
    "        #     print(iev)\n",
    "\n",
    "        # sort muons by pt\n",
    "        muon_pts_to_sort = []\n",
    "        for imuon, pt in enumerate(branches[\"ptMuons\"][iev]):\n",
    "            # apply selections here if needed\n",
    "            if branches[\"idMuons\"][iev][imuon] < 1 or branches[\"isoMuons\"][iev][imuon] > 0.4:\n",
    "                continue\n",
    "            muon_pts_to_sort.append((imuon, pt))\n",
    "        muon_pts_to_sort.sort(key=lambda x: x[1], reverse=True)\n",
    "\n",
    "        # sort electrons by pt\n",
    "        electron_pts_to_sort = []\n",
    "        for iele, pt in enumerate(branches[\"ptElectrons\"][iev]):\n",
    "            # apply selections here if needed\n",
    "            if branches[\"idElectrons\"][iev][iele] < 1 or branches[\"isoElectrons\"][iev][iele] > 0.4:\n",
    "                continue\n",
    "            electron_pts_to_sort.append((iele, pt))\n",
    "        electron_pts_to_sort.sort(key=lambda x: x[1], reverse=True)\n",
    "\n",
    "        if len(muon_pts_to_sort) >= 2 and len(electron_pts_to_sort) >= 2:\n",
    "            # Build muons and electrons\n",
    "            i1 = muon_pts_to_sort[0][0]\n",
    "            i2 = muon_pts_to_sort[1][0]\n",
    "\n",
    "            if branches[\"chargeMuons\"][iev][i1] * branches[\"chargeMuons\"][iev][i2] != -1:\n",
    "                continue\n",
    "\n",
    "            muon1 = vector.obj(\n",
    "                pt=branches[\"ptMuons\"][iev][i1],\n",
    "                eta=branches[\"etaMuons\"][iev][i1],\n",
    "                phi=branches[\"phiMuons\"][iev][i1],\n",
    "                mass=muon_mass\n",
    "            )\n",
    "            muon2 = vector.obj(\n",
    "                pt=branches[\"ptMuons\"][iev][i2],\n",
    "                eta=branches[\"etaMuons\"][iev][i2],\n",
    "                phi=branches[\"phiMuons\"][iev][i2],\n",
    "                mass=muon_mass\n",
    "            )\n",
    "\n",
    "            i1 = electron_pts_to_sort[0][0]\n",
    "            i2 = electron_pts_to_sort[1][0]\n",
    "\n",
    "            if branches[\"chargeElectrons\"][iev][i1] * branches[\"chargeElectrons\"][iev][i2] != -1:\n",
    "                continue\n",
    "\n",
    "            electron1 = vector.obj(\n",
    "                pt=branches[\"ptElectrons\"][iev][i1],\n",
    "                eta=branches[\"etaElectrons\"][iev][i1],\n",
    "                phi=branches[\"phiElectrons\"][iev][i1],\n",
    "                mass=electron_mass\n",
    "            )\n",
    "            electron2 = vector.obj(\n",
    "                pt=branches[\"ptElectrons\"][iev][i2],\n",
    "                eta=branches[\"etaElectrons\"][iev][i2],\n",
    "                phi=branches[\"phiElectrons\"][iev][i2],\n",
    "                mass=electron_mass\n",
    "            )\n",
    "\n",
    "            # Build the Z's and the Higgs boson\n",
    "            Zmumu = muon1 + muon2\n",
    "            Zee = electron1 + electron2\n",
    "            H = Zmumu + Zee\n",
    "\n",
    "            builder.append(H.mass)\n",
    "    builder.end_list()\n",
    "    return builder"
   ]
  },
  {
   "cell_type": "code",
   "execution_count": null,
   "id": "9065ad44-371a-4c67-a171-64069f3aad1c",
   "metadata": {},
   "outputs": [],
   "source": [
    "file = uproot.open('SMHiggsToZZTo4L.root')\n",
    "tree = file['demo/ExampleTree']\n",
    "branches = tree.arrays()\n",
    "\n",
    "higgs_sample_entries = len(branches)\n",
    "\n",
    "print(f\"Tree has {higgs_sample_entries} events\")"
   ]
  },
  {
   "cell_type": "code",
   "execution_count": null,
   "id": "9c340c8f-e1fc-4c00-93ee-37addbeb3fb9",
   "metadata": {},
   "outputs": [],
   "source": [
    "higgs_sample_mass = get_higgs_mass_nosel(ak.ArrayBuilder(), branches).to_list()\n",
    "histo_mass = plt.hist(ak.flatten(higgs_sample_mass), bins=37, range=(70, 181))\n",
    "x_label = plt.xlabel(r\"$m_{4l}$ [GeV]\")\n",
    "y_label = plt.ylabel(\"Entries\")"
   ]
  },
  {
   "cell_type": "markdown",
   "id": "362d3617-06bd-4b66-9507-34677b89d61e",
   "metadata": {},
   "source": [
    "### 3) Is that all?\n",
    "\n",
    "No! We can try to improve the signal sensitivity by applying a selection based on the Higgs topology. \n",
    "\n",
    "Given that $m_H < 2 \\cdot m_Z$, we need to look for events where one of the $Z$ bosons is produced on-shell and the other off-shell, i.e. outside the resonance. Then, we will require that the $Z$ boson with a mass closer to the nominal $Z$ mass has a mass within 40 and 120 GeV, and the off-shell $Z$ between 12 and 120 GeV. On top of that, we will require that the leptons coming from the on-shell $Z$ have $p_T$ of at least 20 and 10 GeV."
   ]
  },
  {
   "cell_type": "code",
   "execution_count": null,
   "id": "69b77dbb-4937-4d90-95da-c70baec754d3",
   "metadata": {},
   "outputs": [],
   "source": [
    "@nb.jit(nopython=True)\n",
    "def get_higgs_mass_withsel(builder, branches):\n",
    "    builder.begin_list()\n",
    "    for iev in range(len(branches[\"ptMuons\"])):  # looping on all the events of the sample\n",
    "        # if iev % 1000 == 0:\n",
    "        #     print(iev)\n",
    "\n",
    "        # sort muons by pt\n",
    "        muon_pts_to_sort = []\n",
    "        for imuon, pt in enumerate(branches[\"ptMuons\"][iev]):\n",
    "            # apply selections here if needed\n",
    "            if branches[\"idMuons\"][iev][imuon] < 1 or branches[\"isoMuons\"][iev][imuon] > 0.4:\n",
    "                continue\n",
    "            muon_pts_to_sort.append((imuon, pt))\n",
    "        muon_pts_to_sort.sort(key=lambda x: x[1], reverse=True)\n",
    "\n",
    "        # sort electrons by pt\n",
    "        electron_pts_to_sort = []\n",
    "        for iele, pt in enumerate(branches[\"ptElectrons\"][iev]):\n",
    "            # apply selections here if needed\n",
    "            if branches[\"idElectrons\"][iev][iele] < 1 or branches[\"isoElectrons\"][iev][iele] > 0.4:\n",
    "                continue\n",
    "            electron_pts_to_sort.append((iele, pt))\n",
    "        electron_pts_to_sort.sort(key=lambda x: x[1], reverse=True)\n",
    "\n",
    "        if len(muon_pts_to_sort) >= 2 and len(electron_pts_to_sort) >= 2:\n",
    "            # Build muons and electrons\n",
    "            i1 = muon_pts_to_sort[0][0]\n",
    "            i2 = muon_pts_to_sort[1][0]\n",
    "\n",
    "            if branches[\"chargeMuons\"][iev][i1] * branches[\"chargeMuons\"][iev][i2] != -1:\n",
    "                continue\n",
    "\n",
    "            muon1 = vector.obj(\n",
    "                pt=branches[\"ptMuons\"][iev][i1],\n",
    "                eta=branches[\"etaMuons\"][iev][i1],\n",
    "                phi=branches[\"phiMuons\"][iev][i1],\n",
    "                mass=muon_mass\n",
    "            )\n",
    "            muon2 = vector.obj(\n",
    "                pt=branches[\"ptMuons\"][iev][i2],\n",
    "                eta=branches[\"etaMuons\"][iev][i2],\n",
    "                phi=branches[\"phiMuons\"][iev][i2],\n",
    "                mass=muon_mass\n",
    "            )\n",
    "\n",
    "            i1 = electron_pts_to_sort[0][0]\n",
    "            i2 = electron_pts_to_sort[1][0]\n",
    "\n",
    "            if branches[\"chargeElectrons\"][iev][i1] * branches[\"chargeElectrons\"][iev][i2] != -1:\n",
    "                continue\n",
    "\n",
    "            electron1 = vector.obj(\n",
    "                pt=branches[\"ptElectrons\"][iev][i1],\n",
    "                eta=branches[\"etaElectrons\"][iev][i1],\n",
    "                phi=branches[\"phiElectrons\"][iev][i1],\n",
    "                mass=electron_mass\n",
    "            )\n",
    "            electron2 = vector.obj(\n",
    "                pt=branches[\"ptElectrons\"][iev][i2],\n",
    "                eta=branches[\"etaElectrons\"][iev][i2],\n",
    "                phi=branches[\"phiElectrons\"][iev][i2],\n",
    "                mass=electron_mass\n",
    "            )\n",
    "\n",
    "            # Build the Z's and the Higgs boson\n",
    "            Zmumu = muon1 + muon2\n",
    "            Zee = electron1 + electron2\n",
    "            H = Zmumu + Zee\n",
    "\n",
    "            if abs(Zmumu.mass - Z_mass) < abs(Zee.mass - Z_mass):  # Z1 = Zmumu\n",
    "                # Require that the two muons have pts > 20 and > 10 GeV\n",
    "                if muon1.pt > 20 and muon2.pt > 10: # Require that the two muons have pts > 20 and > 10 GeV\n",
    "                    if Zmumu.mass > 40 and Zmumu.mass < 120 and Zee.mass > 12 and Zee.mass < 120: # Selection on the on-shell (Zmumu) and off-shell (Zee) Zs\n",
    "                        builder.append(H.mass)\n",
    "            else:  # Z1 = Zee\n",
    "                # Require that the two electrons have pts > 20 and > 10 GeV\n",
    "                if electron1.pt > 20 and electron2.pt > 10 :\n",
    "                    if Zee.mass > 40 and Zee.mass < 120 and Zmumu.mass > 12 and Zmumu.mass < 120: # Selection on the on-shell (Zee) and off-shell (Zmumu) Zs\n",
    "                        builder.append(H.mass)\n",
    "    builder.end_list()\n",
    "    return builder"
   ]
  },
  {
   "cell_type": "code",
   "execution_count": null,
   "id": "bf46a60f-d00c-4c68-b3ad-1a24e57d1ce9",
   "metadata": {},
   "outputs": [],
   "source": [
    "higgs_sample_mass_sel = get_higgs_mass_withsel(ak.ArrayBuilder(), branches).to_list()\n",
    "histo_mass = plt.hist(ak.flatten(higgs_sample_mass), bins=37, range=(70, 181), histtype='barstacked', label=\"No HZZ selection\")\n",
    "histo_mass_sel = plt.hist(ak.flatten(higgs_sample_mass_sel), bins=37, range=(70, 181), histtype='barstacked', label=\"With HZZ selection\")\n",
    "x_label = plt.xlabel(r\"$m_{4l}$ [GeV]\")\n",
    "y_label = plt.ylabel(\"Entries\")\n",
    "legend = plt.legend()"
   ]
  },
  {
   "cell_type": "markdown",
   "id": "aecb1822-94de-459e-979f-99811b3b6f39",
   "metadata": {},
   "source": [
    "### 4) What has been the effect on the signal?\n",
    "\n",
    "Didn't affect it much. But what about the background? Produce the same histograms running on the ZZ background sample"
   ]
  },
  {
   "cell_type": "code",
   "execution_count": null,
   "id": "9390e966-d86e-47cd-93f6-92a1eaed1f5e",
   "metadata": {},
   "outputs": [],
   "source": [
    "file = uproot.open('ZZTo2mu2e.root')\n",
    "tree = file['demo/ExampleTree']\n",
    "branches = tree.arrays()\n",
    "zz_sample_entries = len(branches)\n",
    "\n",
    "print(f\"Tree has {zz_sample_entries} events\")"
   ]
  },
  {
   "cell_type": "code",
   "execution_count": null,
   "id": "0b669356-f486-49f1-b00f-1f5a6c551e5b",
   "metadata": {},
   "outputs": [],
   "source": [
    "zz_sample_mass = get_higgs_mass_nosel(ak.ArrayBuilder(), branches).to_list()\n",
    "zz_sample_mass_sel = get_higgs_mass_withsel(ak.ArrayBuilder(), branches).to_list()\n",
    "histo_mass = plt.hist(ak.flatten(zz_sample_mass), bins=37, range=(70, 181), histtype='barstacked', label=\"No HZZ selection\")\n",
    "histo_mass_sel = plt.hist(ak.flatten(zz_sample_mass_sel), bins=37, range=(70, 181), histtype='barstacked', label=\"With HZZ selection\")\n",
    "x_label = plt.xlabel(r\"$m_{4l}$ [GeV]\")\n",
    "y_label = plt.ylabel(\"Entries\")\n",
    "legend = plt.legend()"
   ]
  },
  {
   "cell_type": "markdown",
   "id": "127d1484-75aa-434c-b9da-97846e5e37f3",
   "metadata": {},
   "source": [
    "### 5) Let's get the final plot!\n",
    "\n",
    "Normalise each MC process to its cross section and plot them together with the data."
   ]
  },
  {
   "cell_type": "code",
   "execution_count": null,
   "id": "a0c37f95-9d28-42f0-bf39-bc4654b4fb88",
   "metadata": {},
   "outputs": [],
   "source": [
    "data_sample_mass_sel = []\n",
    "for i in range(10):\n",
    "    file = uproot.open(f'DoubleMuParkedRun2012BC_{i}.root')\n",
    "    tree = file['demo/ExampleTree']\n",
    "    branches = tree.arrays()\n",
    "\n",
    "    print(f\"Tree has {len(branches)} events\")\n",
    "\n",
    "    data_sample_mass_sel += get_higgs_mass_withsel(ak.ArrayBuilder(), branches).to_list()"
   ]
  },
  {
   "cell_type": "code",
   "execution_count": null,
   "id": "ba700fb1-0fa4-4998-b982-f0ba77d10aca",
   "metadata": {},
   "outputs": [],
   "source": [
    "stacked_histo = plt.hist(\n",
    "    [ak.flatten(zz_sample_mass_sel), ak.flatten(higgs_sample_mass_sel)],\n",
    "    bins=37, range=(70, 181),\n",
    "    stacked=True,\n",
    "    label=[r\"ZZ$\\to 2 \\mu 2e$\", r\"$m_{H} = 125$ GeV\"],\n",
    "    weights=[(integrated_luminosity * zzXsec / zz_sample_entries) * np.ones_like(ak.flatten(zz_sample_mass_sel)),\n",
    "             (integrated_luminosity * hzzXsec / higgs_sample_entries) * np.ones_like(ak.flatten(higgs_sample_mass_sel))]\n",
    ")\n",
    "\n",
    "# zz_mass = plt.hist(\n",
    "#     ak.flatten(zz_sample_mass_sel),\n",
    "#     bins=37, range=(70, 181),\n",
    "#     stacked=True,\n",
    "#     label=r\"ZZ$\\to 2 \\mu 2e$\",\n",
    "#     weights=(integrated_luminosity * zzXsec / zz_sample_entries) * np.ones_like(ak.flatten(zz_sample_mass_sel))\n",
    "# )\n",
    "# higgs_mass = plt.hist(\n",
    "#     ak.flatten(higgs_sample_mass_sel),\n",
    "#     bins=37, range=(70, 181),\n",
    "#     stacked=True,\n",
    "#     label=r\"$m_{H} = 125$ GeV\",\n",
    "#     weights=(integrated_luminosity * hzzXsec / higgs_sample_entries) * np.ones_like(ak.flatten(higgs_sample_mass_sel))\n",
    "# )\n",
    "data = plt.hist(\n",
    "    ak.flatten(data_sample_mass_sel),\n",
    "    bins=37, range=(70, 181),\n",
    "    fill=False,\n",
    "    edgecolor=\"white\"\n",
    ")\n",
    "bin_centres = (data[1][:-1] + data[1][1:])/2.\n",
    "error = np.sqrt(data[0])\n",
    "data = plt.errorbar(bin_centres, data[0], yerr=error, fmt='o', color=\"k\", label=\"Data\")\n",
    "\n",
    "x_label = plt.xlabel(r\"$m_{4l}$ [GeV]\")\n",
    "y_label = plt.ylabel(\"Entries\")\n",
    "legend = plt.legend()"
   ]
  },
  {
   "cell_type": "code",
   "execution_count": null,
   "id": "a77afb9c-7cc7-4e36-bc89-cfc8ea341769",
   "metadata": {},
   "outputs": [],
   "source": [
    "# We would need to produce the same histograms for the data, running\n",
    "# h_MassHiggs4L_Data, _, _  = get_mass_withsel(\"Data\", treeData)\n",
    "\n",
    "# However, given that the data file has many events, we had previously run that command and stored it in a root file\n",
    "histo_file = ROOT.TFile(\"Exercise_hData.root\")\n",
    "h_MassHiggs4L_Data = histo_file.Get(\"h_MassHiggs4L_Data\").Clone()\n",
    "#histo_file.Close()"
   ]
  },
  {
   "cell_type": "code",
   "execution_count": null,
   "id": "ca0ef0ac-8316-46dd-8327-adbe43f7d1bd",
   "metadata": {},
   "outputs": [],
   "source": [
    "# Normalise the MC histograms considering the luminosity, cross section, and the total number of events\n",
    "# Be careful to run this only once!\n",
    "h_MassHiggs4L_HZZ.Scale(hzzXsec * Lumi / entriesHZZ) \n",
    "h_MassHiggs4L_ZZ.Scale(zzXsec * Lumi / entriesZZ)"
   ]
  },
  {
   "cell_type": "code",
   "execution_count": null,
   "id": "0257c3c7-5db4-4f4a-a118-49b4485e33e3",
   "metadata": {},
   "outputs": [],
   "source": [
    "c3 = ROOT.TCanvas()\n",
    "\n",
    "# Change the colours of the different histograms\n",
    "h_MassHiggs4L_HZZ.SetLineColor(ROOT.kRed)\n",
    "h_MassHiggs4L_ZZ.SetLineColor(ROOT.kBlue)\n",
    "h_MassHiggs4L_ZZ.SetFillColor(ROOT.kAzure-9)\n",
    "h_MassHiggs4L_Data.SetMarkerStyle(20)\n",
    "h_MassHiggs4L_Data.SetLineColor(ROOT.kBlack)\n",
    "\n",
    "# Instead of drawing each histogram independently, we can stack them\n",
    "mcomb = ROOT.THStack(\"mcomb\", \" \") \n",
    "mcomb.Add(h_MassHiggs4L_ZZ)\n",
    "mcomb.Add(h_MassHiggs4L_HZZ)\n",
    "\n",
    "# Draw them:\n",
    "mcomb.Draw(\"hist\")\n",
    "h_MassHiggs4L_Data.Draw(\"PE,sames\")\n",
    "\n",
    "# Add a legend\n",
    "leg = ROOT.TLegend(.62, .70, .82, .88)\n",
    "leg.SetFillColor(0)\n",
    "leg.AddEntry(h_MassHiggs4L_Data, \"Data\", \"PE\")\n",
    "leg.AddEntry(h_MassHiggs4L_ZZ, \"ZZ -> 2#mu 2e\", \"f\")\n",
    "leg.AddEntry(h_MassHiggs4L_HZZ, \"m_{H} = 125 GeV\", \"f\")\n",
    "leg.Draw()\n",
    "\n",
    "# Some little cosmetics\n",
    "mcomb.GetXaxis().SetTitle(\"m_{2#mu2e} (GeV)\");\n",
    "mcomb.GetYaxis().SetTitle(\"Events / 3 GeV\");\n",
    "mcomb.GetYaxis().SetTitleOffset(1.2);\n",
    "mcomb.SetMaximum(6);\n",
    "\n",
    "ROOT.gStyle.SetOptStat(0) # Remove the stats box on the top right\n",
    "\n",
    "c3.Draw()"
   ]
  },
  {
   "cell_type": "markdown",
   "id": "d576f500-edbe-4608-aebf-3efed9aa0a04",
   "metadata": {},
   "source": [
    "# Congratulations! You have discovered the Higgs boson!\n",
    "You can now repeat the same exercise in the $H\\to ZZ\\to4\\mu$ channel"
   ]
  }
 ],
 "metadata": {
  "kernelspec": {
   "display_name": "Python 3 (ipykernel)",
   "language": "python",
   "name": "python3"
  },
  "language_info": {
   "codemirror_mode": {
    "name": "ipython",
    "version": 3
   },
   "file_extension": ".py",
   "mimetype": "text/x-python",
   "name": "python",
   "nbconvert_exporter": "python",
   "pygments_lexer": "ipython3",
   "version": "3.12.4"
  }
 },
 "nbformat": 4,
 "nbformat_minor": 5
}
