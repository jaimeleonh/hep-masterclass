{
 "cells": [
  {
   "cell_type": "markdown",
   "id": "4e8bed38-818b-42f4-b9a3-02da9e691c42",
   "metadata": {
    "tags": []
   },
   "source": [
    "# Let's discover the Higgs boson!"
   ]
  },
  {
   "cell_type": "markdown",
   "id": "98af2958-7a1d-4f7f-b6a4-2199a55c575a",
   "metadata": {
    "slideshow": {
     "slide_type": "subslide"
    },
    "tags": []
   },
   "source": [
    "The purpose of this exercise is to reproduce one of the plots used in the discovery of Higgs boson by the CMS experiment. We are going to use public data consisting on proton-proton collisions at 8 TeV collected during 2012, part of the LHC Run 1. This exercise is based on http://opendata.cern.ch/record/5500. \n",
    "\n",
    "\n",
    "In the following tasks, we will be able to reproduce the plot for the Higgs discovery in the $pp\\rightarrow H \\rightarrow ZZ \\rightarrow 4l $ channel. This implies that a proton-proton collision in the LHC produces a Higgs boson that decays into two Z bosons that immediately decay into 4 leptons (electrons, muons, or taus), which are the particles we will measure in the final state. \n",
    "\n",
    "<div class=\"center\">\n",
    "<img src=\"imagenes/higgsdecay.png\" width=\"500\"/>\n",
    "<img src=\"imagenes/SM_table.png\" width=\"350\"/>\n",
    "</div>"
   ]
  },
  {
   "cell_type": "markdown",
   "id": "da9bbf61-519f-46da-a169-6bd7c844ce11",
   "metadata": {
    "tags": []
   },
   "source": [
    "**How are we going to work?** "
   ]
  },
  {
   "cell_type": "markdown",
   "id": "409ac99a-bd66-4135-b2a0-5341eb709a97",
   "metadata": {
    "slideshow": {
     "slide_type": "subslide"
    },
    "tags": []
   },
   "source": [
    "**ROOT** (https://root.cern/) is the most common data analysis tool in Particle Physics. It can be used un two languages, C++ and Python. We will focus on the Python implementation, **pyROOT**. We won't go in detail over the programming considered in the exercise, and we won't consider everything that can be done with ROOT. However, you will see a set of easy and useful commands used daily at CERN."
   ]
  },
  {
   "cell_type": "markdown",
   "id": "5ade0f1f-e115-4ad8-8e76-c84c9e2a22dd",
   "metadata": {
    "tags": []
   },
   "source": [
    "**Data file structure** "
   ]
  },
  {
   "cell_type": "markdown",
   "id": "fa6a62be-1848-4b15-b64c-fb941774b66f",
   "metadata": {
    "slideshow": {
     "slide_type": "subslide"
    },
    "tags": []
   },
   "source": [
    "The ROOT files we will use have the following structure:\n",
    "\n",
    "<div class=\"center\">\n",
    "<img src=\"imagenes/tree.png\" width=\"1000\"/>\n",
    "</div>\n",
    "\n",
    "\n",
    "- Two **directories**, demo and demoLong. We will only work with demo.\n",
    "- Inside the demo directory we can find:\n",
    "    - A **tree** named *'ExampleTree'*. *Trees* are the typical ROOT file structure, where information is stored and classified in **branches**. This structure allows to work with a huge amount of events treating in parallel objects and variables with different dimensions. Our trees store the following variables: \n",
    "        - **Number of leptons per event**: *nMuons, nElectrons, nGoodMuons, nGoodElectrons*\n",
    "        - **Lepton variables**, stored as *arrays* (fixed-size vectors): *ptMuons[nMuons], etaMuons[nMuons], phiMuons[nMuons], chargeMuons[nMuons], idMuons[nMuons], isoMuons[nMuons]*\n",
    "        - **HZZ candidate variables** in cases with 4 muons: *mass4mu, pt_4mu, eta_4mu, phi_4mu, E4mu, mZa, mZb, selectHZZ* \n",
    "    - Two **histograms** (*massZto2muons* and *mass4mu_full*), already filled so we can compare them to our results."
   ]
  },
  {
   "cell_type": "markdown",
   "id": "5df1af30-e53f-491a-92e1-80623d26bcc5",
   "metadata": {
    "tags": []
   },
   "source": [
    "## PART 1: Event selection"
   ]
  },
  {
   "cell_type": "markdown",
   "id": "13fcd37c-95f1-47ea-8c04-9de64f08c68c",
   "metadata": {
    "slideshow": {
     "slide_type": "subslide"
    },
    "tags": []
   },
   "source": [
    "In order to start working with ROOT, let's produce a set of basic histograms showing the lepton variable distributions. We will consider simulated **Drell-Yan** events, where a proton-proton collision produces a virtual Z or photon that immediately decays into two same-flavour opposite-charge leptons ($e^+e^-$, $\\mu^+\\mu^-$, $\\tau^+\\tau^-$).\n",
    "\n",
    "<div class=\"center\">\n",
    "<img src=\"imagenes/drellyan.png\" width=\"500\"/>\n",
    "</div>\n",
    "\n",
    "We will consider for now only muons, but the some procedure could be applied to electrons."
   ]
  },
  {
   "cell_type": "markdown",
   "id": "ccd4fa2a-912f-4bc9-994f-05daf713f3c4",
   "metadata": {},
   "source": [
    "**1) Load the input file and open the tree inside it** "
   ]
  },
  {
   "cell_type": "code",
   "execution_count": 1,
   "id": "4200747c-45c3-4a2f-bbea-97d823ce3b44",
   "metadata": {},
   "outputs": [
    {
     "name": "stdout",
     "output_type": "stream",
     "text": [
      "Tree has 100000 events\n"
     ]
    }
   ],
   "source": [
    "# SOLUTION\n",
    "import ROOT\n",
    "dy_sample = \"DYJetsToLL_M-50\"\n",
    "f = ROOT.TFile.Open(dy_sample + \".root\")\n",
    "tree = f.Get(\"demo/ExampleTree\")\n",
    "entries = tree.GetEntries()\n",
    "print(\"Tree has %d events\" % entries)"
   ]
  },
  {
   "cell_type": "markdown",
   "id": "131736c3-e6b2-453c-abb3-82e6fe974b7a",
   "metadata": {
    "tags": []
   },
   "source": [
    "**2) Loop over the events and fill the histograms**"
   ]
  },
  {
   "cell_type": "code",
   "execution_count": 2,
   "id": "779c95eb-ec72-4829-9669-2952be601b62",
   "metadata": {},
   "outputs": [
    {
     "data": {
      "application/vnd.jupyter.widget-view+json": {
       "model_id": "3a8339b188524e83ae7b482435e41ecd",
       "version_major": 2,
       "version_minor": 0
      },
      "text/plain": [
       "interactive(children=(FloatSlider(value=1.0, description='iso_cut', max=1.0, step=0.05), IntSlider(value=0, de…"
      ]
     },
     "metadata": {},
     "output_type": "display_data"
    }
   ],
   "source": [
    "import uproot\n",
    "import awkward as ak\n",
    "file = uproot.open('DYJetsToLL_M-50.root')\n",
    "tree = file['demo/ExampleTree']\n",
    "branches = tree.arrays()\n",
    "\n",
    "import matplotlib.pyplot as plt\n",
    "\n",
    "def apply_iso_cut(branches, iso_cut=0.4, id_cut=0):\n",
    "    return (branches['isoMuons'] < iso_cut) & (branches['idMuons'] >= id_cut)\n",
    "\n",
    "from ipywidgets import interact\n",
    "@interact(iso_cut=(0., 1., 0.05), id_cut=(0, 1))\n",
    "def interactive_straight_track(iso_cut=1.0, id_cut=0):\n",
    "    mask = apply_iso_cut(branches, iso_cut=iso_cut, id_cut=id_cut)\n",
    "    plt.hist(ak.flatten(branches['ptMuons'][mask]), bins=100, range=(0, 100))\n"
   ]
  },
  {
   "cell_type": "code",
   "execution_count": 3,
   "id": "f2d78585-ab33-4fc0-ab59-90fa6ce8613d",
   "metadata": {
    "tags": []
   },
   "outputs": [
    {
     "name": "stdout",
     "output_type": "stream",
     "text": [
      "Number of good muons in the whole sample: 46496.0\n"
     ]
    }
   ],
   "source": [
    "# SOLUTION\n",
    "# First, we need to define the histograms\n",
    "# HOWTO: ROOT.TH1F(\"name\",\"title; x_title; y_title\", number of bins in the x axis, minimum x, maximum x)\n",
    "\n",
    "h_MuonPt = ROOT.TH1F(\"h_MuonPt\",\"MuonPt; Muon p_{T}; Events\",100,0,100)\n",
    "h_GoodMuonPt = ROOT.TH1F(\"h_GoodMuonPt\",\"GoodMuonPt; Good muon p_{T}; Events\", 100, 0, 100)\n",
    "h_NMuons = ROOT.TH1F(\"h_NMuons\",\"Muons; Number of good muons per event\", 11, -0.5, 10.5)\n",
    "h_NGoodMuons = ROOT.TH1F(\"h_NGoodMuons\",\"Good Muons; Number of good muons per event\", 11, -0.5, 10.5)\n",
    "\n",
    "# You can plot more variables, e.g. muon pseudorapidity (between -2.5 and 2.5) or phi (0 to 2 * pi)\n",
    "\n",
    "# In order to fill the histograms, we need to loop over the events in the tree using a for-loop:\n",
    "for event in tree:\n",
    "    # Fill the histogram with the number of muons per event\n",
    "    h_NMuons.Fill(event.nMuons)\n",
    "    # Fill the histogram with the number of \"good\" muons (satisfy certain identification and isolation criteria) per event\n",
    "    h_NGoodMuons.Fill(event.nGoodMuons) \n",
    "    \n",
    "    # Now loop over all muons per event:\n",
    "    for i in range(0, event.nMuons):            \n",
    "        # Fill the pt of every muon in the event\n",
    "        h_MuonPt.Fill(event.ptMuons[i])\n",
    "\n",
    "        # In order to select good muons, several selection cuts need to be applied:\n",
    "        # 1: Identification: we need to skip muons that do not pass the id criteria (idMuons[i] == 1)\n",
    "        if event.idMuons[i]!=1:\n",
    "            continue\n",
    "        # 2: Isolation: we need to skip non-isolated muons (isoMuons[i] < 0.4)\n",
    "        if event.isoMuons[i]>=0.4:\n",
    "            continue\n",
    "\n",
    "        # We could potentially add some more cuts, for example focusing on some part of the phase space\n",
    "        # if abs(event.etaMuons[i]) > 2.4:\n",
    "        #     continue \n",
    "\n",
    "        # Finally, fill the histogram with the pt from the good muons\n",
    "        h_GoodMuonPt.Fill(event.ptMuons[i])\n",
    "\n",
    "# How many total muons do we have? Let's compute the Integral() from the distribution.            \n",
    "print(\"Number of good muons in the whole sample:\", h_GoodMuonPt.Integral())"
   ]
  },
  {
   "cell_type": "markdown",
   "id": "45f13ff7-6ff1-4bcc-98ea-2a111ab58236",
   "metadata": {
    "tags": []
   },
   "source": [
    "**3) Let's draw the histograms**"
   ]
  },
  {
   "cell_type": "code",
   "execution_count": 4,
   "id": "8136d74b-cb3a-4838-bdbc-5634f8aa0432",
   "metadata": {
    "tags": []
   },
   "outputs": [
    {
     "name": "stderr",
     "output_type": "stream",
     "text": [
      "Info in <TCanvas::Print>: png file example_plot.png has been created\n"
     ]
    },
    {
     "data": {
      "image/png": "[encoded data removed]",
      "text/plain": [
       "<IPython.core.display.Image object>"
      ]
     },
     "metadata": {},
     "output_type": "display_data"
    }
   ],
   "source": [
    "# SOLUTION\n",
    "c = ROOT.TCanvas()\n",
    "c.Divide(1,2)\n",
    "c.cd(1)\n",
    "h_MuonPt.Draw()\n",
    "h_GoodMuonPt.Draw(\"sames\")\n",
    "c.cd(2)\n",
    "h_NMuons.Draw()\n",
    "h_NGoodMuons.Draw(\"sames\")\n",
    "h_GoodMuonPt.SetLineColor(ROOT.kRed)\n",
    "h_GoodMuonPt.SetXTitle(\"Muon P_{T} [GeV]\")\n",
    "h_NGoodMuons.SetLineColor(ROOT.kRed)\n",
    "h_NGoodMuons.SetXTitle(\"Número de muones por suceso\")\n",
    "c.Draw()\n",
    "c.SaveAs(\"example_plot.png\")"
   ]
  },
  {
   "cell_type": "markdown",
   "id": "b76e8d3e-8140-46be-83d2-7744be7afae5",
   "metadata": {
    "tags": []
   },
   "source": [
    "**4) Analyse what you have obtained**"
   ]
  },
  {
   "cell_type": "markdown",
   "id": "e684fa6c-ab25-4f1a-a41a-9e571349c225",
   "metadata": {
    "tags": []
   },
   "source": [
    "- How are the muons per event?\n",
    "- How would you characterise them in terms of pt, eta, phi...?\n",
    "- How many muons are tipically per event? Why?\n",
    "- What is the effect of the id and isolation cuts?\n",
    "\n",
    "$\\color{red}{\\text{You can repeat the same exercise for electrons and see how the results look like.}}$\n",
    "\n",
    "**5) Save the histograms in a root file so we can work with them later.**"
   ]
  },
  {
   "cell_type": "code",
   "execution_count": 5,
   "id": "b137f157-cbbc-4ed7-a793-1398136fc7c1",
   "metadata": {
    "tags": []
   },
   "outputs": [],
   "source": [
    "# Solution\n",
    "out = ROOT.TFile('histosMuonQuality_%s.root' % dy_sample, \"RECREATE\")\n",
    "out.cd()\n",
    "h_MuonPt.Write()\n",
    "h_GoodMuonPt.Write()\n",
    "h_NMuons.Write()\n",
    "h_NGoodMuons.Write()\n",
    "\n",
    "f.Close()\n",
    "out.Close()\n"
   ]
  },
  {
   "cell_type": "markdown",
   "id": "1d1da1dd-090f-4b8d-9821-c1b8061515d1",
   "metadata": {
    "tags": []
   },
   "source": [
    "## Part 2: Invariant mass\n",
    "\n",
    "$\\color{red}{\\text{Goals of this exercise:}}$\n",
    "- Select the two most energetic muons per event\n",
    "- Reconstruct the Z bosons and their invariant mass\n",
    "    \n"
   ]
  },
  {
   "cell_type": "markdown",
   "id": "048a4981-f250-48e5-9ba1-c826f7fafd5a",
   "metadata": {
    "tags": []
   },
   "source": [
    "**1) Load the input file**\n",
    "In this case, let's work with $H \\rightarrow ZZ \\rightarrow 4l$ events, stored in `SMHiggsToZZTo4L.root`"
   ]
  },
  {
   "cell_type": "code",
   "execution_count": 6,
   "id": "9e43db3e-9395-4dfa-b0c5-dada884dae84",
   "metadata": {
    "tags": []
   },
   "outputs": [
    {
     "name": "stdout",
     "output_type": "stream",
     "text": [
      "Tree has 100000 events\n"
     ]
    }
   ],
   "source": [
    "# Solution\n",
    "import math\n",
    "higgs_label = \"SMHiggsToZZTo4L\"\n",
    "f = ROOT.TFile.Open(higgs_label + \".root\")\n",
    "tree = f.Get(\"demo/ExampleTree\")\n",
    "entries=tree.GetEntries()\n",
    "print(\"Tree has %d events\" % entries)\n"
   ]
  },
  {
   "cell_type": "markdown",
   "id": "3674050a-109f-412b-9d7f-aaa68073c5d2",
   "metadata": {},
   "source": [
    "**2) Before looking at the tree, let's draw the dimuon mass histogram already stored in the file**"
   ]
  },
  {
   "cell_type": "code",
   "execution_count": 7,
   "id": "d739075e-3acd-48ce-ad48-452717cfe4ed",
   "metadata": {
    "tags": []
   },
   "outputs": [
    {
     "data": {
      "image/png": "[encoded data removed]",
      "text/plain": [
       "<IPython.core.display.Image object>"
      ]
     },
     "metadata": {},
     "output_type": "display_data"
    }
   ],
   "source": [
    "# SOLUTION\n",
    "# dimuon mass histogram is named 'massZto2muon', stored in the 'demo' directory.\n",
    "histoReference = f.Get(\"demo/massZto2muon\")\n",
    "c = ROOT.TCanvas()\n",
    "histoReference.SetLineColor(ROOT.kRed)\n",
    "histoReference.SetXTitle(\"M_{ll} [GeV]\")\n",
    "histoReference.Draw()\n",
    "c.Draw()"
   ]
  },
  {
   "cell_type": "markdown",
   "id": "b95dc750-c971-4bad-b3fc-3f74f5496a57",
   "metadata": {},
   "source": [
    "**3) Let's work now with the tree in order to compute the Z invariant mass.**\n",
    "\n",
    "We can consider three possible methods.\n",
    "\n",
    "**First method: compute the invariant mass from the energy and momentum of the particle**\n",
    "\n",
    "The invariant mass of a particle can be obtained as\n",
    "\n",
    "$M = \\sqrt{E²-|p|²}$\n",
    "\n",
    "where $E$ and $|p|$ and the energy and momentum of the particle.\n",
    "\n",
    "In the $Z\\rightarrow \\mu\\mu$ case, the $Z$ energy and momentum can be obtained as\n",
    "\n",
    "$E = E_{\\mu_1} + E_{\\mu_2}$, $|p| = \\sqrt{p_{x}²+p_{y}²+p_{z}²}$ \n",
    "\n",
    "where $p_i$ can be obtained as the sum of the $p_{i}$ of the two particles. For example:\n",
    "\n",
    "$p_{x} = p_{x_{\\mu_1}} + p_{x_{\\mu_2}}$ \n",
    "\n",
    "In our tree, the momentum of the particles is stored in cylindrical coordinates ($p_T$, $\\eta$, $\\phi$). In order to convert to $p_x$, $p_y$, and $p_z$, we can consider:\n",
    "- $p_{x} = p_{T} · \\cos(\\phi)$    \n",
    "- $p_{y} = p_{T} · \\sin(\\phi)$ \n",
    "- $p_{z} = p_{T} · \\sinh(\\eta)$ \n",
    "\n",
    "Now let's compute the invariant mass from the Z particle assuming it has decayed into the two most energetic muons in the event."
   ]
  },
  {
   "cell_type": "code",
   "execution_count": 8,
   "id": "afc91cb1-f5c5-4c84-a1c3-bd7c4616a83f",
   "metadata": {
    "tags": []
   },
   "outputs": [],
   "source": [
    "# Solution\n",
    "# Define the histogram of the invariant mass with 40 bins, between 40 and 120 GeV.\n",
    "h_InvariantMassDiMuon = ROOT.TH1F(\"h_InvariantMassDiMuon\", \"Invariant Mass from the 2 muons; M [GeV]; Events\", 40, 40, 120)\n",
    "muon_mass=0.105 # mass in GeV\n",
    "for event in tree: # loop sobre los sucesos del tree \n",
    "    if event.nGoodMuons<2:\n",
    "        continue\n",
    "\n",
    "    # Let's select the two most energetic (largest pt) good muons\n",
    "    # Define two variables that will store the pt of the two most energetic good muons and their indexes inside the muon array\n",
    "    muon_1_pt = 0\n",
    "    muon_2_pt = 0\n",
    "    muonindex_1 = -1\n",
    "    muonindex_2 = -1\n",
    "\n",
    "    for i in range(0, event.nMuons):\n",
    "        if event.idMuons[i] != 1:\n",
    "            continue\n",
    "        if event.isoMuons[i] >= 0.4:\n",
    "            continue\n",
    "\n",
    "        if event.ptMuons[i] > muon_1_pt:\n",
    "           muonindex_2 = muonindex_1 \n",
    "           muon_2_pt = muon_1_pt\n",
    "           muonindex_1 = i \n",
    "           muon_1_pt = event.ptMuons[i]\n",
    "        elif event.ptMuons[i] > muon_2_pt:\n",
    "           muonindex_2 = i\n",
    "           muon_2_pt = event.ptMuons[i]\n",
    "\n",
    "    # Now that we have stored the indexes of the most energetic muons under muonindex_1 and muonindex_2, we can use them to extract\n",
    "    # their values of pt, eta, phi, and charge\n",
    "\n",
    "    muon_1_eta=event.etaMuons[muonindex_1]\n",
    "    muon_1_phi=event.phiMuons[muonindex_1]\n",
    "    muon_1_charge=event.chargeMuons[muonindex_1]\n",
    "\n",
    "    muon_2_eta=event.etaMuons[muonindex_2]\n",
    "    muon_2_phi=event.phiMuons[muonindex_2]\n",
    "    muon_2_charge=event.chargeMuons[muonindex_2]\n",
    "\n",
    "    # Given that Z is a neutral particle, both muons need to have opposite charge.\n",
    "    if muon_1_charge * muon_2_charge != -1:\n",
    "    # one could also use muon_1_charge + muon_2_charge != 0, assuming that the object is stored as a muon only its |charge\\ == 1\n",
    "        continue\n",
    "\n",
    "    # Convert into cartesian coordinates and extract the energy and momentum of each muon\n",
    "    muon_1_px = muon_1_pt * math.cos(muon_1_phi)\n",
    "    muon_1_py = muon_1_pt * math.sin(muon_1_phi)\n",
    "    muon_1_pz = muon_1_pt * math.sinh(muon_1_eta)\n",
    "\n",
    "    muon_2_px = muon_2_pt * math.cos(muon_2_phi)\n",
    "    muon_2_py = muon_2_pt * math.sin(muon_2_phi)\n",
    "    muon_2_pz = muon_2_pt * math.sinh(muon_2_eta)\n",
    "\n",
    "    muon_1_p = math.sqrt(muon_1_px * muon_1_px + muon_1_py * muon_1_py + muon_1_pz * muon_1_pz)\n",
    "    muon_2_p = math.sqrt(muon_2_px * muon_2_px + muon_2_py * muon_2_py + muon_2_pz * muon_2_pz)\n",
    "\n",
    "    muon_1_e = math.sqrt(muon_1_p * muon_1_p + muon_mass * muon_mass)\n",
    "    muon_2_e = math.sqrt(muon_2_p * muon_2_p + muon_mass * muon_mass)\n",
    "    \n",
    "    # Obtain the momentum and energy of the Z->mumu candidate\n",
    "    Z_px = (muon_1_px + muon_2_px)\n",
    "    Z_py = (muon_1_py + muon_2_py)\n",
    "    Z_pz = (muon_1_pz + muon_2_pz)\n",
    "    Z_e = muon_1_e + muon_2_e\n",
    "    Z_p = math.sqrt(Z_px * Z_px + Z_py * Z_py + Z_pz * Z_pz)\n",
    "\n",
    "    # Finally, obtain the mass and fill the h_InvariantMassDiMuon histogram\n",
    "    Z_mass = math.sqrt(Z_e*Z_e - Z_p*Z_p)\n",
    "    h_InvariantMassDiMuon.Fill(Z_mass)"
   ]
  },
  {
   "cell_type": "markdown",
   "id": "dcf9ca35-f749-4c94-9bae-16a2c54f8c62",
   "metadata": {
    "tags": []
   },
   "source": [
    "**Draw the histogram you obtained**"
   ]
  },
  {
   "cell_type": "code",
   "execution_count": 9,
   "id": "73380486-09a1-4fe8-9d05-3bebb5734f8f",
   "metadata": {
    "tags": []
   },
   "outputs": [
    {
     "data": {
      "image/png": "[encoded data removed]",
      "text/plain": [
       "<IPython.core.display.Image object>"
      ]
     },
     "metadata": {},
     "output_type": "display_data"
    }
   ],
   "source": [
    "c2 = ROOT.TCanvas()\n",
    "\n",
    "# Define the colour \n",
    "h_InvariantMassDiMuon.SetLineColor(ROOT.kBlue)\n",
    "\n",
    "# Draw the histogram and canvas\n",
    "h_InvariantMassDiMuon.Draw()\n",
    "c2.Draw()"
   ]
  },
  {
   "cell_type": "markdown",
   "id": "1e03e16a-b0b4-4ce3-acd4-4e25f97b272a",
   "metadata": {},
   "source": [
    "**Second method: compute the invariant mass directly from cylindrical coordinates**\n",
    "\n",
    "Assuming that the muon mass is much smaller than the $Z$ mass, we can set it to 0 and compute the invariant mass of the dilepton system as\n",
    "\n",
    "\n",
    "$M_{\\ell\\ell}= \\sqrt{ 2 · p_{T_{muon1}} · p_{T_{muon2}} · (\\cosh{(\\eta_{muon1}-\\eta_{muon2})}-\\cos{(\\phi_{muon1} - \\phi_{muon2})})}$\n",
    "\n",
    "Compute the invariant mass of the two most energetic muons with this method and compare the resulting histogram with the one obtained using the previous method."
   ]
  },
  {
   "cell_type": "code",
   "execution_count": 11,
   "id": "f13f1a95-93d3-4858-a89a-277d912507c2",
   "metadata": {
    "tags": []
   },
   "outputs": [
    {
     "name": "stderr",
     "output_type": "stream",
     "text": [
      "Warning in <TFile::Append>: Replacing existing TH1: h_InvariantMassDiMuon_v2 (Potential memory leak).\n"
     ]
    }
   ],
   "source": [
    "h_InvariantMassDiMuon_v2 = ROOT.TH1F(\"h_InvariantMassDiMuon_v2\", \"Invariant Mass 2 Muons; M [GeV]; Events\", 40, 40, 120)\n",
    "muon_mass=0.105  #GeV\n",
    "for event in tree: # loop sobre los sucesos del tree \n",
    "    if event.nGoodMuons<2:\n",
    "            continue\n",
    "\n",
    "    # Let's extract the two most energetic good muons in a more compact way \n",
    "\n",
    "    listGoodMuons = []\n",
    "    for i in range(0, event.nMuons):\n",
    "        if event.idMuons[i] != 1:\n",
    "            continue\n",
    "        if event.isoMuons[i] >= 0.4:\n",
    "            continue\n",
    "\n",
    "        listGoodMuons.append([i, event.ptMuons[i]])\n",
    "\n",
    "    ordered_list = sorted(listGoodMuons, key=lambda elem: elem[1] ,reverse=True)\n",
    "    if len(listGoodMuons) < 2:\n",
    "        continue\n",
    "\n",
    "    # Extract the pt, eta, phi, and charge from the two most energetic muons\n",
    "    muonindex_1 = ordered_list[0][0]\n",
    "    muonindex_2 = ordered_list[1][0]\n",
    "\n",
    "    muon_1_pt = event.ptMuons[muonindex_1]\n",
    "    muon_1_eta = event.etaMuons[muonindex_1]\n",
    "    muon_1_phi = event.phiMuons[muonindex_1]\n",
    "    muon_1_charge = event.chargeMuons[muonindex_1]\n",
    "\n",
    "    muon_2_eta = event.etaMuons[muonindex_2]\n",
    "    muon_2_phi = event.phiMuons[muonindex_2]\n",
    "    muon_2_pt = event.ptMuons[muonindex_2]\n",
    "    muon_2_charge = event.chargeMuons[muonindex_2]\n",
    "\n",
    "    # Check that both muons have opposite charges\n",
    "    if muon_1_charge * muon_2_charge != -1:\n",
    "        continue\n",
    "\n",
    "    # Compute the Z mass using the second method\n",
    "\n",
    "    Z_mass_v2 = math.sqrt(2*muon_1_pt*muon_2_pt*(math.cosh(muon_1_eta-muon_2_eta)-math.cos(muon_1_phi - muon_2_phi)))\n",
    "\n",
    "    h_InvariantMassDiMuon_v2.Fill(Z_mass_v2)\n"
   ]
  },
  {
   "cell_type": "markdown",
   "id": "b0d32fa5-ba94-4688-89c2-3baa6916fde8",
   "metadata": {
    "tags": []
   },
   "source": [
    "**Draw the histogram**"
   ]
  },
  {
   "cell_type": "code",
   "execution_count": 12,
   "id": "e709ed45-4e4a-4f5e-9211-9bf328a9c752",
   "metadata": {
    "tags": []
   },
   "outputs": [
    {
     "data": {
      "image/png": "[encoded data removed]",
      "text/plain": [
       "<IPython.core.display.Image object>"
      ]
     },
     "metadata": {},
     "output_type": "display_data"
    }
   ],
   "source": [
    "c3 = ROOT.TCanvas()\n",
    "h_InvariantMassDiMuon_v2.SetLineColor(ROOT.kGreen+3)\n",
    "h_InvariantMassDiMuon_v2.Draw()\n",
    "c3.Draw()"
   ]
  },
  {
   "cell_type": "markdown",
   "id": "8cac670b-535c-4390-b92b-ff9c196b076d",
   "metadata": {},
   "source": [
    "**Third method: Using TLorentzVectors**\n",
    "ROOT has a very useful class, TLorentzVector, that can store the 4-vector of a particle. TLorentzVectors can be combined to build new particles, and their mass can be extracted using the `M()` method."
   ]
  },
  {
   "cell_type": "code",
   "execution_count": 13,
   "id": "c52abb89-45a1-4a9d-9667-71695880e966",
   "metadata": {
    "tags": []
   },
   "outputs": [],
   "source": [
    "# SOLUTION\n",
    "h_InvariantMassDiMuon_v3 = ROOT.TH1F(\"h_InvariantMassDiMuon_v3\",\"Invariant Mass 2 Muons; M [GeV]\", 40, 40, 120)\n",
    "muon_mass=0.105 #GeV\n",
    "for event in tree: # loop over the events in the tree\n",
    "    if event.nGoodMuons<2:\n",
    "        continue\n",
    "\n",
    "    listGoodMuons=[]\n",
    "\n",
    "    for i in range(0, event.nMuons):\n",
    "        if event.idMuons[i]!=1:\n",
    "            continue\n",
    "        if event.isoMuons[i]>=0.4:\n",
    "            continue\n",
    "\n",
    "        listGoodMuons.append( [i, event.ptMuons[i]])\n",
    "\n",
    "    ordered_list = sorted (listGoodMuons, key=lambda pt: pt[1], reverse=True)\n",
    "\n",
    "    if len(listGoodMuons) < 2:\n",
    "        continue\n",
    "\n",
    "    muonindex_1 = ordered_list[0][0]\n",
    "    muonindex_2 = ordered_list[1][0]\n",
    "\n",
    "    muon_1_pt = event.ptMuons[muonindex_1]\n",
    "    muon_1_eta = event.etaMuons[muonindex_1]\n",
    "    muon_1_phi = event.phiMuons[muonindex_1]\n",
    "    muon_1_charge = event.chargeMuons[muonindex_1]\n",
    "\n",
    "    muon_2_eta = event.etaMuons[muonindex_2]\n",
    "    muon_2_phi = event.phiMuons[muonindex_2]\n",
    "    muon_2_pt = event.ptMuons[muonindex_2]\n",
    "    muon_2_charge = event.chargeMuons[muonindex_2]\n",
    "    \n",
    "    # Check that both muons have opposite charge\n",
    "    if muon_1_charge * muon_2_charge != -1:\n",
    "        continue\n",
    "\n",
    "    # Build LorentzVectors using the SetPtEtaPhiM method\n",
    "\n",
    "    muonLV_1 = ROOT.TLorentzVector()\n",
    "    muonLV_1.SetPtEtaPhiM(muon_1_pt, muon_1_eta, muon_1_phi, muon_mass)\n",
    "    muonLV_2 = ROOT.TLorentzVector()\n",
    "    muonLV_2.SetPtEtaPhiM(muon_2_pt, muon_2_eta, muon_2_phi, muon_mass)\n",
    "\n",
    "    ZLV = ROOT.TLorentzVector()\n",
    "    ZLV = muonLV_1 + muonLV_2\n",
    "\n",
    "    Z_mass_v3 = ZLV.M()\n",
    "\n",
    "    h_InvariantMassDiMuon_v3.Fill(Z_mass_v3)"
   ]
  },
  {
   "cell_type": "markdown",
   "id": "4d6c7c85-963c-4c9b-ac88-4a490d7f2234",
   "metadata": {},
   "source": [
    "Let's now draw the histogram"
   ]
  },
  {
   "cell_type": "code",
   "execution_count": 15,
   "id": "db2db390-b14e-43d3-bae4-df4293cf47a1",
   "metadata": {
    "tags": []
   },
   "outputs": [
    {
     "data": {
      "image/png": "[encoded data removed]",
      "text/plain": [
       "<IPython.core.display.Image object>"
      ]
     },
     "metadata": {},
     "output_type": "display_data"
    }
   ],
   "source": [
    "# SOLUTION\n",
    "c4 = ROOT.TCanvas()\n",
    "h_InvariantMassDiMuon_v3.SetLineColor(ROOT.kPink + 10)\n",
    "h_InvariantMassDiMuon_v3.Draw(\"hist\")\n",
    "c4.Draw()"
   ]
  },
  {
   "cell_type": "markdown",
   "id": "6acc098c-d356-4df4-a54e-1a361f2c1dc0",
   "metadata": {
    "tags": []
   },
   "source": [
    "**4) Some questions you may want to ask yourself**\n",
    "\n",
    "- If the Z mass is around 91 GeV, why do we see a broader peak?\n",
    "- Why do we obtain a ~constant tail below 80 GeV?\n",
    "- What happens if I use a different sample? e.g. DYJetsToLL_M-50, the one from the first exercise.\n",
    "- And for a data sample? Input file is called `DoubleMuParkedRun2012BC.root`. Be careful! This file has a huge number of events, so it'll probably take very long to run."
   ]
  },
  {
   "cell_type": "code",
   "execution_count": null,
   "id": "98d2cf15-e463-4292-b881-27c36e95e2a5",
   "metadata": {
    "tags": []
   },
   "outputs": [],
   "source": [
    "# END PART 2"
   ]
  },
  {
   "cell_type": "markdown",
   "id": "3ac001fb-89dd-4552-9efe-bf47afd53185",
   "metadata": {
    "tags": []
   },
   "source": [
    "## Part 3: Normalising\n",
    "\n",
    "Before starting with the Higgs reconstruction we need to learn how to **normalise** histograms, so the the ones obtained from Monte Carlo simulations can be compared to the actual data from the detector. To do so we need to define two quantities\n",
    "\n",
    "- **Cross section** ($\\sigma$), defined as the probability that a given process is given after the collision of the particles. It has units of area (m${}^2$), but in Particle Physics we use the **barn** (1b $ = 10^{-28}$ m${}^2$) and its multiples (mb, pb, fb, ...)\n",
    "- **Luminosity**: related to the number of events and the cross section as\n",
    "  $L = \\frac{1}{\\sigma}\\cdot \\frac{dN}{dt}$. Intregrating the luminosity in a period of time we obtaine the **integrated luminosity**, measured in inversed units of the cross section (pb${}^{-1}$, fb${}^{-1}$, ...). The larger the integrated luminosity, the more data events we will have and the probability that we could have collected enough events of a particular process so it can be statistically observed.\n",
    "\n",
    "**How do we obtain the values of the cross sections of the different processes?**\n",
    "\n",
    "Cross sections are computed using appropriated tools, such as [MCFM](https://mcfm.fnal.gov/) or [FEWZ](http://dx.doi.org/10.1103/PhysRevD.86.094034). Their values are estimated considering proton-proton collisions with a center-of-mass energy of 8 TeV.\n",
    "\n",
    "- $Z\\rightarrow\\ell^{+}\\ell^{-}$, with $m_{ll}>50 GeV$: 1177.3 pb.\n",
    "- $pp\\rightarrow ZZ -> 4\\mu$: 7.7 pb.\n",
    "- $gg\\to H\\to ZZ \\to 4\\mu$: 0.0065 pb.\n"
   ]
  },
  {
   "cell_type": "markdown",
   "id": "3aceea6b-6b59-436e-9611-18e9b2ae3535",
   "metadata": {
    "tags": []
   },
   "source": [
    "**Let's work!**\n",
    "Let's compare the event yields after normalization for data (`DoubleMuParkedRun2012BC.root`), signal (`SMHiggsToZZTo4L`), and backgrounds (`DYJetsToLL_M-50` and `ZZTo4mu`) around the Z peak."
   ]
  },
  {
   "cell_type": "markdown",
   "id": "8d98f24e-6b0d-4b46-a3c1-c66983598db1",
   "metadata": {
    "tags": []
   },
   "source": [
    "**1) Open the different input files for signal, data, and backgrounds**"
   ]
  },
  {
   "cell_type": "code",
   "execution_count": 28,
   "id": "0f5c59af-9f6a-460c-bca1-f0a521b8f1cc",
   "metadata": {
    "tags": []
   },
   "outputs": [
    {
     "name": "stdout",
     "output_type": "stream",
     "text": [
      "Signal tree has 100000 events\n",
      "Data tree has 60935977 events\n",
      "Background tree DYJetsToLL_M-50 has 100000 entries\n",
      "Background tree ZZTo4mu has 1499064 entries\n"
     ]
    }
   ],
   "source": [
    "# SOLUTION\n",
    "import ROOT\n",
    "import math\n",
    "\n",
    "# Signal -> SMHiggsToZZTo4L.root\n",
    "label_signal = \"SMHiggsToZZTo4L\"\n",
    "f_signal = ROOT.TFile.Open(label_signal + \".root\")\n",
    "tree_signal = f_signal.Get(\"demo/ExampleTree\")\n",
    "\n",
    "# Data -> DoubleMuParkedRun2012BC.root\n",
    "label_data = \"DoubleMuParkedRun2012BC\"\n",
    "f_data = ROOT.TFile.Open(label_data + \".root\")\n",
    "tree_data = f_data.Get(\"demo/ExampleTree\")\n",
    "\n",
    "# Background -> DYJetsToLL_M-50.root and ZZTo4mu.root\n",
    "f_MC = {}\n",
    "\n",
    "label_MC = [\"DYJetsToLL_M-50\", \"ZZTo4mu\"]\n",
    "for label in label_MC:\n",
    "    f_MC[label] = ROOT.TFile.Open(label + \".root\")\n",
    "tree_dic = {}\n",
    "for file in f_MC:\n",
    "    tree_dic[file] = f_MC[file].Get(\"demo/ExampleTree\")\n",
    " \n",
    "# print number of events per file\n",
    "entries_signal = tree_signal.GetEntries()\n",
    "print(\"Signal tree has\", entries_signal, \"events\")\n",
    "entries_data = tree_data.GetEntries()\n",
    "print(\"Data tree has\", entries_data, \"events\")\n",
    "for file in tree_dic:\n",
    "    print(\"Background tree\", file, \"has\", tree_dic[file].GetEntries(), \"entries\")"
   ]
  },
  {
   "cell_type": "markdown",
   "id": "1d64538e-8cd4-4b81-a620-2ac9b4a89d66",
   "metadata": {
    "tags": []
   },
   "source": [
    "**2) To avoid looping over all events again, let's directly extract the histograms from the input files**"
   ]
  },
  {
   "cell_type": "code",
   "execution_count": 32,
   "id": "3ad06118-7202-4322-9aaa-ad7920312130",
   "metadata": {
    "tags": []
   },
   "outputs": [
    {
     "data": {
      "image/png": "[encoded data removed]",
      "text/plain": [
       "<IPython.core.display.Image object>"
      ]
     },
     "metadata": {},
     "output_type": "display_data"
    }
   ],
   "source": [
    "# Solution\n",
    "# gStyle.SetOptStat(0) # Cosmetics, removes the stats box on the top right\n",
    "\n",
    "# Inside the 'demo' directory, get the massZto2muon' histogram\n",
    "# Remember, we must not normalise the data histogram\n",
    "histoData = f_data.Get(\"demo/massZto2muon\")\n",
    "canvas = ROOT.TCanvas()\n",
    "histoData.Draw(\"E\")\n",
    "histoData.SetMarkerStyle(20)\n",
    "histoData.SetMarkerSize(0.8)\n",
    "canvas.Draw()\n",
    "\n",
    "integrated_luminsitoy = 11580 #pb\n",
    "hzzXsec = 0.0065 # xs gg-> H -> ZZ -> 4mu [pb]\n",
    "zzXsec = 0.077 * 1.386  # xs gg -> ZZ -> 4mu [pb]\n",
    "dyM50Xsec = 1177.3 * 3 # xs gg -> Z -> mumu [pb]\n",
    "\n",
    "xs = {\"DYJetsToLL_M-50\": dyM50Xsec, \"ZZTo4mu\": zzXsec}\n",
    "iter = 0\n",
    "\n",
    "bkg_histo = None\n",
    "\n",
    "for file in tree_dic:\n",
    "    histo = f_MC[file].Get(\"demo/massZto2muon\")\n",
    "    histo.SetLineColor(iter+2)\n",
    "    histo.SetFillColor(iter+2)\n",
    "    histo.SetFillStyle(3001)\n",
    "    histo.GetYaxis().SetRangeUser(0, 1000000)\n",
    "    histo.Scale(xs[file]*integrated_luminosity/tree_dic[file].GetEntries())\n",
    "    histo.Draw(\"sames hist\")\n",
    "    if (iter == 0): bkg_histo = histo.Clone()\n",
    "    else: bkg_histo.Add(histo)\n",
    "    histo.Clear()\n",
    "    iter = iter+1\n",
    "    \n",
    "# Let's draw the signal on top of the other histograms\n",
    "histoSignal = f_signal.Get(\"demo/massZto2muon\")\n",
    "histoSignal.Draw(\"hist sames\")\n",
    "histoSignal.GetYaxis().SetRangeUser(0, 1000000)\n",
    "histo.Scale(hzzXsec * integrated_luminosity / entries_signal)\n",
    "histoSignal.Clear()\n",
    "histoSignal.SetLineColor(ROOT.kPink + 1)"
   ]
  },
  {
   "cell_type": "code",
   "execution_count": 34,
   "id": "af2a8345-6c21-469c-8245-0a4c97ea354c",
   "metadata": {
    "tags": []
   },
   "outputs": [
    {
     "data": {
      "image/png": "[encoded data removed]",
      "text/plain": [
       "<IPython.core.display.Image object>"
      ]
     },
     "metadata": {},
     "output_type": "display_data"
    }
   ],
   "source": [
    "# Ratio DATA / MC\n",
    "hRatio = histoData.Clone()\n",
    "hRatio.Divide(bkg_histo)\n",
    "hRatio.GetXaxis().SetRangeUser(50,120)\n",
    "canvasRatio = ROOT.TCanvas()\n",
    "hRatio.Draw(\"hist\")\n",
    "canvasRatio.Draw()"
   ]
  },
  {
   "cell_type": "markdown",
   "id": "931f4891-b31b-4d17-9a34-cc5adc64622d",
   "metadata": {},
   "source": [
    "# Now we can look for the Higgs boson!"
   ]
  },
  {
   "cell_type": "markdown",
   "id": "8babed39-ff32-42c8-bba8-686d4976c48b",
   "metadata": {},
   "source": [
    "We have already all the tools needed to reproduce the plot used in the search for $H\\to ZZ \\to 4l$. We will simplify it a bit by only looking at the $2\\mu2e$ channel and only part of the 2012 data. A more detailed version of this analysis is located in https://github.com/cms-opendata-analyses/HiggsExample20112012, where you can see the final plot:\n",
    "\n",
    "<div>\n",
    "<img src=\"imagenes/mass4l_combine.png\" width=\"800\"/>\n",
    "</div>\n",
    "\n",
    "In our particular channel, the plot looks like \n",
    "\n",
    "<div>\n",
    "<img src=\"imagenes/mass2mu2e_small.png\" width=\"800\"/>\n",
    "</div>\n",
    "\n",
    "$\\color{red}{\\text{Goals of this exercise}}$\n",
    "- Select the two most energetic muons and electrons per event\n",
    "- Reconstruct both Z bosons and the Higgs boson!\n",
    "- Compare signal, background, and data\n",
    "    \n",
    "We will consider three samples:\n",
    "- Monte Carlo simulation of $pp \\to H \\to ZZ \\to 4l$: file `SMHiggsToZZTo4l.root`\n",
    "- Monte Carlo simulation of $pp \\to ZZ \\to 2\\mu2e$: file `ZZTo2mu2e.root`\n",
    "- 2012 data: file `DoubleMuParkedRun2012BC.root`\n"
   ]
  },
  {
   "cell_type": "markdown",
   "id": "d9f59118-9944-4c69-bd4f-a907f7c1af05",
   "metadata": {},
   "source": [
    "### Some constants that will be needed for this exercise"
   ]
  },
  {
   "cell_type": "code",
   "execution_count": 37,
   "id": "053d42c6-b741-4f6a-9be3-621763f9730e",
   "metadata": {},
   "outputs": [],
   "source": [
    "muon_mass = 0.105658\n",
    "electron_mass = 0.0005109989\n",
    "Z_mass = 91.1876\n",
    "\n",
    "# Luminosity\n",
    "Lumi = 11580 # pb-1\n",
    "\n",
    "# Cross-sections :\n",
    "hzzXsec = 0.0065 # pb. gg -> H -> ZZ -> 4l\n",
    "zzXsec = 0.18 * 1.386  #pb. gg -> ZZ -> 4l"
   ]
  },
  {
   "cell_type": "markdown",
   "id": "d7831992-78b8-4965-a90d-daf236efe72f",
   "metadata": {},
   "source": [
    "### 1) Load the input files"
   ]
  },
  {
   "cell_type": "code",
   "execution_count": 38,
   "id": "6116b297-bf6e-4e46-a990-ea4c31c283cf",
   "metadata": {},
   "outputs": [
    {
     "name": "stdout",
     "output_type": "stream",
     "text": [
      "HZZ and ZZ trees have 100000 and 100000 events respectively\n",
      "Data tree has 60935977 events\n"
     ]
    }
   ],
   "source": [
    "import ROOT\n",
    "import math\n",
    "\n",
    "labelHZZ = \"SMHiggsToZZTo4L\" \n",
    "labelZZ = \"ZZTo2mu2e\"\n",
    "labelDatos = \"DoubleMuParkedRun2012BC\"\n",
    "\n",
    "path = \"./\"\n",
    "\n",
    "fHZZ = ROOT.TFile(path + labelHZZ + \".root\")\n",
    "fZZ = ROOT.TFile(path + labelZZ + \".root\")\n",
    "fData = ROOT.TFile(path + labelDatos + \".root\")\n",
    "\n",
    "treeHZZ = fHZZ.Get(\"demo/ExampleTree\")\n",
    "treeZZ = fZZ.Get(\"demo/ExampleTree\")\n",
    "treeData = fData.Get(\"demo/ExampleTree\")\n",
    "                       \n",
    "entriesHZZ=treeHZZ.GetEntries()\n",
    "entriesZZ=treeZZ.GetEntries()\n",
    "entriesData=treeData.GetEntries()\n",
    "\n",
    "print(\"HZZ and ZZ trees have %s and %s events respectively\" % (entriesHZZ, entriesZZ))\n",
    "print(\"Data tree has %s events\" % entriesData)"
   ]
  },
  {
   "cell_type": "markdown",
   "id": "46ecdf72-93c4-445b-96e1-f8b6a532f9c8",
   "metadata": {},
   "source": [
    "### 2) Look for the two muons and two electrons\n",
    "\n",
    "Let's work with ```ROOT.TLorentzVector``` as in the previous exercise. We'll build the TLorentzVector for each muon and electron, sum them to obtain the 4-vectors of each $Z$ and sum them again to reconstruct the Higgs boson. \n",
    "\n",
    "Let's start by not applying any additional selection, just reconstruct both $Z$ from the two most energetic electrons and muons. These electrons and muons must be *good*, i.e. satisfy the requirements on ID and isolation already considered in the previous exercises.\n",
    "\n"
   ]
  },
  {
   "cell_type": "code",
   "execution_count": 43,
   "id": "c4d1ae1f-3a6a-4e01-bf22-0c753d5e4e27",
   "metadata": {},
   "outputs": [
    {
     "name": "stdout",
     "output_type": "stream",
     "text": [
      "Selected events from the total analysed: 5573 / 100000 \n"
     ]
    },
    {
     "name": "stderr",
     "output_type": "stream",
     "text": [
      "Warning in <TFile::Append>: Replacing existing TH1: h_MassHiggs4L_NoSel_HZZ (Potential memory leak).\n"
     ]
    }
   ],
   "source": [
    "def get_mass_nosel(sample_name, input_tree):\n",
    "    h_MassHiggs4L_NoSel = ROOT.TH1F(\"h_MassHiggs4L_NoSel_%s\" % sample_name, \"Higgs mass; M [GeV]\", 37, 70, 181)\n",
    "    \n",
    "    SelectedEvents = 0\n",
    "    TotalEvents = input_tree.GetEntries()\n",
    "\n",
    "    for event in input_tree: # loop over the events in the input tree\n",
    "        if event.nGoodMuons < 2 or event.nGoodElectrons < 2:\n",
    "                continue\n",
    "\n",
    "        # Look for the two most energetic muons\n",
    "\n",
    "        listGoodMuons=[]\n",
    "\n",
    "        for i in range(event.nMuons):\n",
    "                if event.idMuons[i]!=1:\n",
    "                        continue\n",
    "                if event.isoMuons[i]>=0.4:\n",
    "                        continue\n",
    "                listGoodMuons.append( [i, event.ptMuons[i]] )\n",
    "\n",
    "        order = sorted (listGoodMuons, key=lambda elem: elem[1], reverse=True)\n",
    "\n",
    "        if len(listGoodMuons) < 2:\n",
    "                continue\n",
    "\n",
    "        muon_1 = ROOT.TLorentzVector()\n",
    "        muon_index_1=order[0][0]\n",
    "        muon_1_charge = event.chargeMuons[muon_index_1]\n",
    "        muon_1.SetPtEtaPhiM(event.ptMuons[muon_index_1], event.etaMuons[muon_index_1], event.phiMuons[muon_index_1], muon_mass)\n",
    "\n",
    "        muon_2 = ROOT.TLorentzVector()\n",
    "        muon_index_2=order[1][0]\n",
    "        muon_2_charge = event.chargeMuons[muon_index_2]\n",
    "        muon_2.SetPtEtaPhiM(event.ptMuons[muon_index_2], event.etaMuons[muon_index_2], event.phiMuons[muon_index_2], muon_mass)\n",
    "\n",
    "        # look for the two most energetic electrons\n",
    "        listGoodElectrons=[]\n",
    "        for i in range(event.nElectrons):\n",
    "                if event.idElectrons[i] != 1:\n",
    "                        continue\n",
    "                if event.isoElectrons[i] >= 0.4:\n",
    "                        continue\n",
    "                listGoodElectrons.append([i, event.ptElectrons[i]])\n",
    "\n",
    "        order = sorted(listGoodElectrons, key=lambda pt: pt[1], reverse=True)\n",
    "\n",
    "        if len(listGoodElectrons) < 2:\n",
    "                continue\n",
    "\n",
    "        electron_1 = ROOT.TLorentzVector()\n",
    "        electron_index_1 = order[0][0]\n",
    "        electron_1_charge = event.chargeElectrons[electron_index_1]\n",
    "        electron_1.SetPtEtaPhiM(event.ptElectrons[electron_index_1], event.etaElectrons[electron_index_1], event.phiElectrons[electron_index_1], electron_mass)\n",
    "\n",
    "        electron_2 = ROOT.TLorentzVector()\n",
    "        electron_index_2 = order[1][0]\n",
    "        electron_2_charge = event.chargeElectrons[electron_index_2]\n",
    "        electron_2.SetPtEtaPhiM(event.ptElectrons[electron_index_2], event.etaElectrons[electron_index_2], event.phiElectrons[electron_index_2], electron_mass)\n",
    "        \n",
    "        # Check both electrons and muons have opposite charge\n",
    "\n",
    "        if (muon_1_charge + muon_2_charge) != 0 :\n",
    "                continue\n",
    "\n",
    "        if (electron_1_charge + electron_2_charge) != 0 :\n",
    "                continue\n",
    "\n",
    "        # Reconstruct the Zs and the H\n",
    "\n",
    "        Zmumu = muon_1 + muon_2\n",
    "        Zee = electron_1 + electron_2\n",
    "\n",
    "\n",
    "        HCand = Zmumu + Zee\n",
    "\n",
    "        h_MassHiggs4L_NoSel.Fill(HCand.M())\n",
    "        SelectedEvents += 1\n",
    "\n",
    "    print(\"Selected events from the total analysed: %s / %s \" % (SelectedEvents, TotalEvents))\n",
    "    return h_MassHiggs4L_NoSel\n",
    "    \n",
    "h_MassHiggs4L_NoSel_HZZ = get_mass_nosel(\"HZZ\", treeHZZ)"
   ]
  },
  {
   "cell_type": "code",
   "execution_count": 44,
   "id": "573a3771-7031-43e0-abf6-335ae3dae2c8",
   "metadata": {},
   "outputs": [
    {
     "data": {
      "image/png": "[encoded data removed]",
      "text/plain": [
       "<IPython.core.display.Image object>"
      ]
     },
     "metadata": {},
     "output_type": "display_data"
    }
   ],
   "source": [
    "# Draw the histogram\n",
    "c2 = ROOT.TCanvas()\n",
    "h_MassHiggs4L_NoSel_HZZ.SetLineColor(ROOT.kBlue)\n",
    "h_MassHiggs4L_NoSel_HZZ.Draw()\n",
    "c2.Draw()\n"
   ]
  },
  {
   "cell_type": "markdown",
   "id": "362d3617-06bd-4b66-9507-34677b89d61e",
   "metadata": {},
   "source": [
    "### 3) Is that all?\n",
    "\n",
    "No! We can try to improve the signal sensitivity by applying a selection based on the Higgs topology. \n",
    "\n",
    "Given that $m_H < 2 \\cdot m_Z$, we need to look for events where one of the $Z$ bosons is produced on-shell and the other off-shell, i.e. outside the resonance. Then, we will require that the $Z$ boson with a mass closer to the nominal $Z$ mass has a mass within 40 and 120 GeV, and the off-shell $Z$ between 12 and 120 GeV. On top of that, we will require that the leptons coming from the on-shell $Z$ have $p_T$ of at least 20 and 10 GeV."
   ]
  },
  {
   "cell_type": "code",
   "execution_count": 46,
   "id": "3ad5f423-3199-45a1-975b-04bcbaf47f96",
   "metadata": {},
   "outputs": [
    {
     "name": "stdout",
     "output_type": "stream",
     "text": [
      "Selected events out of the total analysed: 4932 / 100000 \n"
     ]
    },
    {
     "name": "stderr",
     "output_type": "stream",
     "text": [
      "Warning in <TFile::Append>: Replacing existing TH1: h_MassZ1_HZZ (Potential memory leak).\n",
      "Warning in <TFile::Append>: Replacing existing TH1: h_MassHiggs4L_HZZ (Potential memory leak).\n"
     ]
    }
   ],
   "source": [
    "def get_mass_withsel(sample_name, input_tree):\n",
    "    h_MassZ1 = ROOT.TH1F(\"h_MassZ1_%s\" % sample_name, \"Mass Z1\", 24, 0., 120.)\n",
    "    h_MassZ2 = ROOT.TH1F(\"h_MassZ2_%s\" % sample_name, \"Mass Z2\", 24, 0., 120.)\n",
    "    h_MassHiggs4L = ROOT.TH1F(\"h_MassHiggs4L_%s\" % sample_name, \"Mass Higgs\", 37, 70., 181.)\n",
    "    \n",
    "    SelectedEvents = 0\n",
    "    TotalEvents = input_tree.GetEntries()\n",
    "    \n",
    "    for event in input_tree: # loop over the events in the input tree\n",
    "        if event.nGoodMuons<2 or event.nGoodElectrons<2:\n",
    "                continue\n",
    "\n",
    "        # look for the two most energetic muons\n",
    "        listGoodMuons=[]\n",
    "\n",
    "        for i in range(event.nMuons):\n",
    "                if event.idMuons[i]!=1:\n",
    "                        continue\n",
    "                if event.isoMuons[i]>=0.4:\n",
    "                        continue\n",
    "                listGoodMuons.append( [i, event.ptMuons[i]] )\n",
    "        order = sorted (listGoodMuons, key=lambda pt: pt[1], reverse=True)\n",
    "\n",
    "        if len(listGoodMuons) < 2:\n",
    "                continue\n",
    "\n",
    "        muon_1 = ROOT.TLorentzVector()\n",
    "        muon_index_1=order[0][0]\n",
    "        muon_1_charge = event.chargeMuons[muon_index_1]\n",
    "        muon_1.SetPtEtaPhiM(event.ptMuons[muon_index_1], event.etaMuons[muon_index_1], event.phiMuons[muon_index_1], muon_mass)\n",
    "\n",
    "        muon_2 = ROOT.TLorentzVector()\n",
    "        muon_index_2=order[1][0]\n",
    "        muon_2_charge = event.chargeMuons[muon_index_2]\n",
    "        muon_2.SetPtEtaPhiM(event.ptMuons[muon_index_2], event.etaMuons[muon_index_2], event.phiMuons[muon_index_2], muon_mass)\n",
    "\n",
    "        # look for the most energetic electrons\n",
    "        listGoodElectrons=[]\n",
    "        for i in range(event.nElectrons):\n",
    "                if event.idElectrons[i] != 1:\n",
    "                        continue\n",
    "                if event.isoElectrons[i] >= 0.4:\n",
    "                        continue\n",
    "                listGoodElectrons.append([i, event.ptElectrons[i]])\n",
    "\n",
    "        order = sorted(listGoodElectrons, key=lambda pt: pt[1], reverse=True)\n",
    "\n",
    "        if len(listGoodElectrons) < 2:\n",
    "            continue\n",
    "\n",
    "        electron_1 = ROOT.TLorentzVector()\n",
    "        electron_index_1 = order[0][0]\n",
    "        electron_1_charge = event.chargeElectrons[electron_index_1]\n",
    "        electron_1.SetPtEtaPhiM(event.ptElectrons[electron_index_1], event.etaElectrons[electron_index_1], event.phiElectrons[electron_index_1], electron_mass)\n",
    "\n",
    "        electron_2 = ROOT.TLorentzVector()\n",
    "        electron_index_2 = order[1][0]\n",
    "        electron_2_charge = event.chargeElectrons[electron_index_2]\n",
    "        electron_2.SetPtEtaPhiM(event.ptElectrons[electron_index_2], event.etaElectrons[electron_index_2], event.phiElectrons[electron_index_2], electron_mass)\n",
    "\n",
    "        # Check that the two electrons and muons have opposite charge\n",
    "        if (muon_1_charge + muon_2_charge) != 0 :\n",
    "            continue\n",
    "\n",
    "        if (electron_1_charge + electron_2_charge) != 0 :\n",
    "            continue\n",
    "\n",
    "        # Reconstruct the two Zs and the Higgs boson\n",
    "        Zmumu = muon_1 + muon_2\n",
    "        Zee = electron_1 + electron_2\n",
    "\n",
    "        HCand = Zmumu + Zee\n",
    "        \n",
    "        Z1 = ROOT.TLorentzVector()\n",
    "        Z2 = ROOT.TLorentzVector()\n",
    "\n",
    "        # Apply the on-shell and off-shell Z selection\n",
    "        selectEvent = False\n",
    "\n",
    "        # Which Z is the on-shell and which one is the off-shell?\n",
    "\n",
    "        if abs(Zmumu.M() - Z_mass) < abs(Zee.M() - Z_mass):  # Z1 = Zmumu\n",
    "            # Require that the two muons have pts > 20 and > 10 GeV\n",
    "            if muon_1.Pt() > 20 and muon_2.Pt() > 10: # Require that the two muons have pts > 20 and > 10 GeV\n",
    "                if Zmumu.M() > 40 and Zmumu.M() < 120 and Zee.M() > 12 and Zee.M() < 120: # Selection on the on-shell (Zmumu) and off-shell (Zee) Zs\n",
    "                    Z1 = Zmumu\n",
    "                    Z2 = Zee\n",
    "                    selectEvent = True\n",
    "\n",
    "        else:  # Z1 = Zee\n",
    "            # Require that the two electrons have pts > 20 and > 10 GeV\n",
    "            if electron_1.Pt() > 20 and electron_2.Pt() > 10 :\n",
    "                if Zee.M() > 40 and Zee.M() < 120 and Zmumu.M() > 12 and Zmumu.M() < 120: # Selection on the on-shell (Zee) and off-shell (Zmumu) Zs\n",
    "                    Z1 = Zmumu\n",
    "                    Z2 = Zee\n",
    "                    selectEvent = True\n",
    "\n",
    "        if selectEvent==True:\n",
    "            h_MassHiggs4L.Fill(HCand.M())\n",
    "            h_MassZ1.Fill(Z1.M())\n",
    "            h_MassZ2.Fill(Z2.M())\n",
    "            SelectedEvents += 1\n",
    "\n",
    "    print(\"Selected events out of the total analysed: %s / %s \" % (SelectedEvents, TotalEvents))\n",
    "    return h_MassHiggs4L, h_MassZ1, h_MassZ1\n",
    "\n",
    "\n",
    "h_MassHiggs4L_HZZ, h_MassZ1_HZZ, h_MassZ2_HZZ  = get_mass_withsel(\"HZZ\", treeHZZ)"
   ]
  },
  {
   "cell_type": "code",
   "execution_count": 49,
   "id": "4ab4ca1c-f63e-4699-90b0-bc3a2c20f595",
   "metadata": {},
   "outputs": [
    {
     "data": {
      "image/png": "[encoded data removed]",
      "text/plain": [
       "<IPython.core.display.Image object>"
      ]
     },
     "metadata": {},
     "output_type": "display_data"
    }
   ],
   "source": [
    "# Draw the histograms before and after the selection\n",
    "c2 = ROOT.TCanvas()\n",
    "\n",
    "h_MassHiggs4L_HZZ.SetLineColor(ROOT.kRed)\n",
    "h_MassHiggs4L_NoSel_HZZ.Draw()\n",
    "h_MassHiggs4L_HZZ.Draw(\"sames\")\n",
    "\n",
    "c2.Draw()"
   ]
  },
  {
   "cell_type": "markdown",
   "id": "aecb1822-94de-459e-979f-99811b3b6f39",
   "metadata": {},
   "source": [
    "### 4) What has been the effect on the signal?\n",
    "\n",
    "Didn't affect it much. But what about the background? Produce the same histograms running on the ZZ background sample"
   ]
  },
  {
   "cell_type": "code",
   "execution_count": 50,
   "id": "0b669356-f486-49f1-b00f-1f5a6c551e5b",
   "metadata": {},
   "outputs": [
    {
     "name": "stdout",
     "output_type": "stream",
     "text": [
      "Selected events from the total analysed: 6488 / 100000 \n",
      "Selected events out of the total analysed: 4128 / 100000 \n"
     ]
    }
   ],
   "source": [
    "h_MassHiggs4L_NoSel_ZZ = get_mass_nosel(\"ZZ\", treeZZ)\n",
    "h_MassHiggs4L_ZZ, h_MassZ1_ZZ, h_MassZ2_ZZ  = get_mass_withsel(\"ZZ\", treeZZ)"
   ]
  },
  {
   "cell_type": "code",
   "execution_count": 52,
   "id": "2abd1c0c-44a6-4985-b672-c056c58edf6c",
   "metadata": {},
   "outputs": [
    {
     "data": {
      "image/png": "[encoded data removed]",
      "text/plain": [
       "<IPython.core.display.Image object>"
      ]
     },
     "metadata": {},
     "output_type": "display_data"
    }
   ],
   "source": [
    "c2 = ROOT.TCanvas()\n",
    "h_MassHiggs4L_ZZ.SetLineColor(ROOT.kRed)\n",
    "h_MassHiggs4L_NoSel_ZZ.Draw()\n",
    "h_MassHiggs4L_ZZ.Draw(\"sames\")\n",
    "c2.Draw()"
   ]
  },
  {
   "cell_type": "markdown",
   "id": "127d1484-75aa-434c-b9da-97846e5e37f3",
   "metadata": {},
   "source": [
    "### 5) Let's get the final plot!\n",
    "\n",
    "Normalise each MC process to its cross section and plot them together with the data."
   ]
  },
  {
   "cell_type": "code",
   "execution_count": 53,
   "id": "a77afb9c-7cc7-4e36-bc89-cfc8ea341769",
   "metadata": {},
   "outputs": [],
   "source": [
    "# We would need to produce the same histograms for the data, running\n",
    "# h_MassHiggs4L_Data, _, _  = get_mass_withsel(\"Data\", treeData)\n",
    "\n",
    "# However, given that the data file has many events, we had previously run that command and stored it in a root file\n",
    "histo_file = ROOT.TFile(\"Exercise_hData.root\")\n",
    "h_MassHiggs4L_Data = histo_file.Get(\"h_MassHiggs4L_Data\").Clone()\n",
    "#histo_file.Close()"
   ]
  },
  {
   "cell_type": "code",
   "execution_count": 54,
   "id": "ca0ef0ac-8316-46dd-8327-adbe43f7d1bd",
   "metadata": {},
   "outputs": [],
   "source": [
    "# Normalise the MC histograms considering the luminosity, cross section, and the total number of events\n",
    "# Be careful to run this only once!\n",
    "h_MassHiggs4L_HZZ.Scale(hzzXsec * Lumi / entriesHZZ) \n",
    "h_MassHiggs4L_ZZ.Scale(zzXsec * Lumi / entriesZZ)"
   ]
  },
  {
   "cell_type": "code",
   "execution_count": 58,
   "id": "0257c3c7-5db4-4f4a-a118-49b4485e33e3",
   "metadata": {},
   "outputs": [
    {
     "data": {
      "image/png": "[encoded data removed]",
      "text/plain": [
       "<IPython.core.display.Image object>"
      ]
     },
     "metadata": {},
     "output_type": "display_data"
    }
   ],
   "source": [
    "c3 = ROOT.TCanvas()\n",
    "\n",
    "# Change the colours of the different histograms\n",
    "h_MassHiggs4L_HZZ.SetLineColor(ROOT.kRed)\n",
    "h_MassHiggs4L_ZZ.SetLineColor(ROOT.kBlue)\n",
    "h_MassHiggs4L_ZZ.SetFillColor(ROOT.kAzure-9)\n",
    "h_MassHiggs4L_Data.SetMarkerStyle(20)\n",
    "h_MassHiggs4L_Data.SetLineColor(ROOT.kBlack)\n",
    "\n",
    "# Instead of drawing each histogram independently, we can stack them\n",
    "mcomb = ROOT.THStack(\"mcomb\", \" \") \n",
    "mcomb.Add(h_MassHiggs4L_ZZ)\n",
    "mcomb.Add(h_MassHiggs4L_HZZ)\n",
    "\n",
    "# Draw them:\n",
    "mcomb.Draw(\"hist\")\n",
    "h_MassHiggs4L_Data.Draw(\"PE,sames\")\n",
    "\n",
    "# Add a legend\n",
    "leg = ROOT.TLegend(.62, .70, .82, .88)\n",
    "leg.SetFillColor(0)\n",
    "leg.AddEntry(h_MassHiggs4L_Data, \"Data\", \"PE\")\n",
    "leg.AddEntry(h_MassHiggs4L_ZZ, \"ZZ -> 2#mu 2e\", \"f\")\n",
    "leg.AddEntry(h_MassHiggs4L_HZZ, \"m_{H} = 125 GeV\", \"f\")\n",
    "leg.Draw()\n",
    "\n",
    "# Some little cosmetics\n",
    "mcomb.GetXaxis().SetTitle(\"m_{2#mu2e} (GeV)\");\n",
    "mcomb.GetYaxis().SetTitle(\"Events / 3 GeV\");\n",
    "mcomb.GetYaxis().SetTitleOffset(1.2);\n",
    "mcomb.SetMaximum(6);\n",
    "\n",
    "ROOT.gStyle.SetOptStat(0) # Remove the stats box on the top right\n",
    "\n",
    "c3.Draw()"
   ]
  },
  {
   "cell_type": "markdown",
   "id": "d576f500-edbe-4608-aebf-3efed9aa0a04",
   "metadata": {},
   "source": [
    "# Congratulations! You have discovered the Higgs boson!\n",
    "You can now repeat the same exercise in the $H\\to ZZ\\to4\\mu$ channel"
   ]
  }
 ],
 "metadata": {
  "kernelspec": {
   "display_name": "Python 3 (ipykernel)",
   "language": "python",
   "name": "python3"
  },
  "language_info": {
   "codemirror_mode": {
    "name": "ipython",
    "version": 3
   },
   "file_extension": ".py",
   "mimetype": "text/x-python",
   "name": "python",
   "nbconvert_exporter": "python",
   "pygments_lexer": "ipython3",
   "version": "3.12.4"
  }
 },
 "nbformat": 4,
 "nbformat_minor": 5
}
